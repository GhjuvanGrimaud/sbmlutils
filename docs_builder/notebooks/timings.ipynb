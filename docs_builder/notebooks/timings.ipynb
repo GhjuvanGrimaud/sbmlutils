{
 "cells": [
  {
   "cell_type": "code",
   "execution_count": 1,
   "metadata": {
    "collapsed": false
   },
   "outputs": [],
   "source": [
    "import cobra\n",
    "from collections import OrderedDict\n",
    "from pandas import Series"
   ]
  },
  {
   "cell_type": "code",
   "execution_count": 2,
   "metadata": {
    "collapsed": false
   },
   "outputs": [],
   "source": [
    "sbml_path = \"iAB_RBC_283.xml\"\n",
    "model = cobra.io.read_sbml_model(sbml_path)\n",
    "model.optimize()\n",
    "var_primals = model.solver.primal_values\n",
    "rxn_index = [rxn.id for rxn in model.reactions]\n",
    "data = [var_primals[rxn.id]-var_primals[rxn.reverse_id] for rxn in model.reactions]"
   ]
  },
  {
   "cell_type": "code",
   "execution_count": 3,
   "metadata": {
    "collapsed": false
   },
   "outputs": [
    {
     "name": "stdout",
     "output_type": "stream",
     "text": [
      "1000 loops, best of 3: 1.69 ms per loop\n"
     ]
    }
   ],
   "source": [
    "%timeit -n 1000 [var_primals[rxn.id]-var_primals[rxn.reverse_id] for rxn in model.reactions]"
   ]
  },
  {
   "cell_type": "code",
   "execution_count": 4,
   "metadata": {
    "collapsed": false
   },
   "outputs": [
    {
     "name": "stdout",
     "output_type": "stream",
     "text": [
      "1000 loops, best of 3: 43 µs per loop\n"
     ]
    }
   ],
   "source": [
    "%timeit -n 1000 dict(zip(rxn_index, data))"
   ]
  },
  {
   "cell_type": "code",
   "execution_count": 5,
   "metadata": {
    "collapsed": false
   },
   "outputs": [
    {
     "name": "stdout",
     "output_type": "stream",
     "text": [
      "1000 loops, best of 3: 525 µs per loop\n"
     ]
    }
   ],
   "source": [
    "%timeit -n 1000 OrderedDict(zip(rxn_index, data))"
   ]
  },
  {
   "cell_type": "code",
   "execution_count": 6,
   "metadata": {
    "collapsed": false
   },
   "outputs": [
    {
     "name": "stdout",
     "output_type": "stream",
     "text": [
      "1000 loops, best of 3: 289 µs per loop\n"
     ]
    }
   ],
   "source": [
    "%timeit -n 1000 Series(index=rxn_index, data=data)"
   ]
  },
  {
   "cell_type": "code",
   "execution_count": null,
   "metadata": {
    "collapsed": true
   },
   "outputs": [],
   "source": []
  }
 ],
 "metadata": {
  "kernelspec": {
   "display_name": "Python 2",
   "language": "python",
   "name": "python2"
  },
  "language_info": {
   "codemirror_mode": {
    "name": "ipython",
    "version": 2
   },
   "file_extension": ".py",
   "mimetype": "text/x-python",
   "name": "python",
   "nbconvert_exporter": "python",
   "pygments_lexer": "ipython2",
   "version": "2.7.12"
  }
 },
 "nbformat": 4,
 "nbformat_minor": 2
}
