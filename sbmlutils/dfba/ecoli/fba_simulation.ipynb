{
 "cells": [
  {
   "cell_type": "markdown",
   "metadata": {
    "collapsed": true,
    "deletable": true,
    "editable": true
   },
   "source": [
    "## FBA simulation E.coli\n",
    "Simulating the FBA part of the E.coli model with `cobrapy`. Implements checks that\n",
    "* model is simulating\n",
    "* gene deletions\n",
    "* uniqueness of solutions\n",
    "* drive the model via exchange reactions\n",
    "\n",
    "This requires\n",
    "* `cobrapy >= 0.6.0a3`"
   ]
  },
  {
   "cell_type": "code",
   "execution_count": 1,
   "metadata": {
    "collapsed": false,
    "deletable": true,
    "editable": true
   },
   "outputs": [],
   "source": [
    "from __future__ import print_function, absolute_import\n",
    "\n",
    "import pandas as pd\n",
    "import cobra\n",
    "from matplotlib import pyplot as plt\n",
    "\n",
    "from sbmlutils import fbc\n",
    "from sbmlutils.dfba.analysis import set_matplotlib_parameters\n",
    "from sbmlutils.dfba.ecoli import model_factory\n",
    "\n",
    "set_matplotlib_parameters()"
   ]
  },
  {
   "cell_type": "code",
   "execution_count": 2,
   "metadata": {
    "collapsed": false,
    "deletable": true,
    "editable": true
   },
   "outputs": [
    {
     "name": "stdout",
     "output_type": "stream",
     "text": [
      "./results/v6/ecoli_fba.xml\n"
     ]
    },
    {
     "data": {
      "text/plain": [
       "(<Model ecoli_fba at 0x7f282fca3e90>,\n",
       " {'SBML errors': [], 'other': [], 'validator': [], 'warnings': []})"
      ]
     },
     "execution_count": 2,
     "metadata": {},
     "output_type": "execute_result"
    }
   ],
   "source": [
    "# load model\n",
    "sbml_path = './results/v{}/ecoli_fba.xml'.format(model_factory.version)\n",
    "print(sbml_path)\n",
    "model = cobra.io.read_sbml_model(sbml_path)\n",
    "cobra.io.sbml3.validate_sbml_model(sbml_path)"
   ]
  },
  {
   "cell_type": "code",
   "execution_count": 3,
   "metadata": {
    "collapsed": false,
    "deletable": true,
    "editable": true
   },
   "outputs": [
    {
     "name": "stdout",
     "output_type": "stream",
     "text": [
      "          lb    ub reversibility boundary objective_coefficient  \\\n",
      "ACALD  -1000  1000          True    False                     0   \n",
      "ACALDt -1000  1000          True    False                     0   \n",
      "ACKr   -1000  1000          True    False                     0   \n",
      "ACONTa -1000  1000          True    False                     0   \n",
      "ACONTb -1000  1000          True    False                     0   \n",
      "\n",
      "             forward_variable                     reverse_variable  \n",
      "ACALD    0 <= ACALD <= 1000.0   0 <= ACALD_reverse_fda2b <= 1000.0  \n",
      "ACALDt  0 <= ACALDt <= 1000.0  0 <= ACALDt_reverse_858fa <= 1000.0  \n",
      "ACKr      0 <= ACKr <= 1000.0    0 <= ACKr_reverse_b49c0 <= 1000.0  \n",
      "ACONTa  0 <= ACONTa <= 1000.0  0 <= ACONTa_reverse_cad6d <= 1000.0  \n",
      "ACONTb  0 <= ACONTb <= 1000.0  0 <= ACONTb_reverse_e198a <= 1000.0  \n",
      "reactions: 96\n",
      "metabolites: 73\n",
      "genes: 137\n"
     ]
    }
   ],
   "source": [
    "# objective function & boundaries\n",
    "# pprint(mfba.objective)\n",
    "df = fbc.cobra_reaction_info(model)\n",
    "print(df.head())\n",
    "print(\"reactions:\", len(model.reactions))\n",
    "print(\"metabolites:\", len(model.metabolites))\n",
    "print(\"genes:\", len(model.genes))\n"
   ]
  },
  {
   "cell_type": "code",
   "execution_count": 4,
   "metadata": {
    "collapsed": false,
    "deletable": true,
    "editable": true
   },
   "outputs": [
    {
     "data": {
      "text/html": [
       "<div>\n",
       "<table border=\"1\" class=\"dataframe\">\n",
       "  <thead>\n",
       "    <tr style=\"text-align: right;\">\n",
       "      <th></th>\n",
       "      <th>lb</th>\n",
       "      <th>ub</th>\n",
       "      <th>reversibility</th>\n",
       "      <th>boundary</th>\n",
       "      <th>objective_coefficient</th>\n",
       "      <th>forward_variable</th>\n",
       "      <th>reverse_variable</th>\n",
       "    </tr>\n",
       "  </thead>\n",
       "  <tbody>\n",
       "    <tr>\n",
       "      <th>EX_ac_e</th>\n",
       "      <td>0</td>\n",
       "      <td>1000</td>\n",
       "      <td>False</td>\n",
       "      <td>True</td>\n",
       "      <td>0</td>\n",
       "      <td>0.0 &lt;= EX_ac_e &lt;= 1000.0</td>\n",
       "      <td>0 &lt;= EX_ac_e_reverse_0be96 &lt;= 0</td>\n",
       "    </tr>\n",
       "    <tr>\n",
       "      <th>EX_acald_e</th>\n",
       "      <td>0</td>\n",
       "      <td>1000</td>\n",
       "      <td>False</td>\n",
       "      <td>True</td>\n",
       "      <td>0</td>\n",
       "      <td>0.0 &lt;= EX_acald_e &lt;= 1000.0</td>\n",
       "      <td>0 &lt;= EX_acald_e_reverse_c096e &lt;= 0</td>\n",
       "    </tr>\n",
       "    <tr>\n",
       "      <th>EX_akg_e</th>\n",
       "      <td>0</td>\n",
       "      <td>1000</td>\n",
       "      <td>False</td>\n",
       "      <td>True</td>\n",
       "      <td>0</td>\n",
       "      <td>0.0 &lt;= EX_akg_e &lt;= 1000.0</td>\n",
       "      <td>0 &lt;= EX_akg_e_reverse_70d85 &lt;= 0</td>\n",
       "    </tr>\n",
       "    <tr>\n",
       "      <th>EX_co2_e</th>\n",
       "      <td>-1000</td>\n",
       "      <td>1000</td>\n",
       "      <td>True</td>\n",
       "      <td>True</td>\n",
       "      <td>0</td>\n",
       "      <td>0 &lt;= EX_co2_e &lt;= 1000.0</td>\n",
       "      <td>0 &lt;= EX_co2_e_reverse_d0466 &lt;= 1000.0</td>\n",
       "    </tr>\n",
       "    <tr>\n",
       "      <th>EX_etoh_e</th>\n",
       "      <td>0</td>\n",
       "      <td>1000</td>\n",
       "      <td>False</td>\n",
       "      <td>True</td>\n",
       "      <td>0</td>\n",
       "      <td>0.0 &lt;= EX_etoh_e &lt;= 1000.0</td>\n",
       "      <td>0 &lt;= EX_etoh_e_reverse_cc64f &lt;= 0</td>\n",
       "    </tr>\n",
       "    <tr>\n",
       "      <th>EX_for_e</th>\n",
       "      <td>0</td>\n",
       "      <td>1000</td>\n",
       "      <td>False</td>\n",
       "      <td>True</td>\n",
       "      <td>0</td>\n",
       "      <td>0.0 &lt;= EX_for_e &lt;= 1000.0</td>\n",
       "      <td>0 &lt;= EX_for_e_reverse_23269 &lt;= 0</td>\n",
       "    </tr>\n",
       "    <tr>\n",
       "      <th>EX_fru_e</th>\n",
       "      <td>0</td>\n",
       "      <td>1000</td>\n",
       "      <td>False</td>\n",
       "      <td>True</td>\n",
       "      <td>0</td>\n",
       "      <td>0.0 &lt;= EX_fru_e &lt;= 1000.0</td>\n",
       "      <td>0 &lt;= EX_fru_e_reverse_c3828 &lt;= 0</td>\n",
       "    </tr>\n",
       "    <tr>\n",
       "      <th>EX_fum_e</th>\n",
       "      <td>0</td>\n",
       "      <td>1000</td>\n",
       "      <td>False</td>\n",
       "      <td>True</td>\n",
       "      <td>0</td>\n",
       "      <td>0.0 &lt;= EX_fum_e &lt;= 1000.0</td>\n",
       "      <td>0 &lt;= EX_fum_e_reverse_e3432 &lt;= 0</td>\n",
       "    </tr>\n",
       "    <tr>\n",
       "      <th>EX_glc__D_e</th>\n",
       "      <td>-10</td>\n",
       "      <td>1000</td>\n",
       "      <td>True</td>\n",
       "      <td>True</td>\n",
       "      <td>0</td>\n",
       "      <td>0 &lt;= EX_glc__D_e &lt;= 1000.0</td>\n",
       "      <td>0 &lt;= EX_glc__D_e_reverse_af641 &lt;= 10.0</td>\n",
       "    </tr>\n",
       "    <tr>\n",
       "      <th>EX_gln__L_e</th>\n",
       "      <td>0</td>\n",
       "      <td>1000</td>\n",
       "      <td>False</td>\n",
       "      <td>True</td>\n",
       "      <td>0</td>\n",
       "      <td>0.0 &lt;= EX_gln__L_e &lt;= 1000.0</td>\n",
       "      <td>0 &lt;= EX_gln__L_e_reverse_6a1a1 &lt;= 0</td>\n",
       "    </tr>\n",
       "    <tr>\n",
       "      <th>EX_glu__L_e</th>\n",
       "      <td>0</td>\n",
       "      <td>1000</td>\n",
       "      <td>False</td>\n",
       "      <td>True</td>\n",
       "      <td>0</td>\n",
       "      <td>0.0 &lt;= EX_glu__L_e &lt;= 1000.0</td>\n",
       "      <td>0 &lt;= EX_glu__L_e_reverse_42f6c &lt;= 0</td>\n",
       "    </tr>\n",
       "    <tr>\n",
       "      <th>EX_h_e</th>\n",
       "      <td>-1000</td>\n",
       "      <td>1000</td>\n",
       "      <td>True</td>\n",
       "      <td>True</td>\n",
       "      <td>0</td>\n",
       "      <td>0 &lt;= EX_h_e &lt;= 1000.0</td>\n",
       "      <td>0 &lt;= EX_h_e_reverse_3e0c5 &lt;= 1000.0</td>\n",
       "    </tr>\n",
       "    <tr>\n",
       "      <th>EX_h2o_e</th>\n",
       "      <td>-1000</td>\n",
       "      <td>1000</td>\n",
       "      <td>True</td>\n",
       "      <td>True</td>\n",
       "      <td>0</td>\n",
       "      <td>0 &lt;= EX_h2o_e &lt;= 1000.0</td>\n",
       "      <td>0 &lt;= EX_h2o_e_reverse_3ced4 &lt;= 1000.0</td>\n",
       "    </tr>\n",
       "    <tr>\n",
       "      <th>EX_lac__D_e</th>\n",
       "      <td>0</td>\n",
       "      <td>1000</td>\n",
       "      <td>False</td>\n",
       "      <td>True</td>\n",
       "      <td>0</td>\n",
       "      <td>0.0 &lt;= EX_lac__D_e &lt;= 1000.0</td>\n",
       "      <td>0 &lt;= EX_lac__D_e_reverse_f95b4 &lt;= 0</td>\n",
       "    </tr>\n",
       "    <tr>\n",
       "      <th>EX_mal__L_e</th>\n",
       "      <td>0</td>\n",
       "      <td>1000</td>\n",
       "      <td>False</td>\n",
       "      <td>True</td>\n",
       "      <td>0</td>\n",
       "      <td>0.0 &lt;= EX_mal__L_e &lt;= 1000.0</td>\n",
       "      <td>0 &lt;= EX_mal__L_e_reverse_af154 &lt;= 0</td>\n",
       "    </tr>\n",
       "    <tr>\n",
       "      <th>EX_nh4_e</th>\n",
       "      <td>-1000</td>\n",
       "      <td>1000</td>\n",
       "      <td>True</td>\n",
       "      <td>True</td>\n",
       "      <td>0</td>\n",
       "      <td>0 &lt;= EX_nh4_e &lt;= 1000.0</td>\n",
       "      <td>0 &lt;= EX_nh4_e_reverse_f9cc6 &lt;= 1000.0</td>\n",
       "    </tr>\n",
       "    <tr>\n",
       "      <th>EX_o2_e</th>\n",
       "      <td>-1000</td>\n",
       "      <td>1000</td>\n",
       "      <td>True</td>\n",
       "      <td>True</td>\n",
       "      <td>0</td>\n",
       "      <td>0 &lt;= EX_o2_e &lt;= 1000.0</td>\n",
       "      <td>0 &lt;= EX_o2_e_reverse_efa94 &lt;= 1000.0</td>\n",
       "    </tr>\n",
       "    <tr>\n",
       "      <th>EX_pi_e</th>\n",
       "      <td>-1000</td>\n",
       "      <td>1000</td>\n",
       "      <td>True</td>\n",
       "      <td>True</td>\n",
       "      <td>0</td>\n",
       "      <td>0 &lt;= EX_pi_e &lt;= 1000.0</td>\n",
       "      <td>0 &lt;= EX_pi_e_reverse_1fb09 &lt;= 1000.0</td>\n",
       "    </tr>\n",
       "    <tr>\n",
       "      <th>EX_pyr_e</th>\n",
       "      <td>0</td>\n",
       "      <td>1000</td>\n",
       "      <td>False</td>\n",
       "      <td>True</td>\n",
       "      <td>0</td>\n",
       "      <td>0.0 &lt;= EX_pyr_e &lt;= 1000.0</td>\n",
       "      <td>0 &lt;= EX_pyr_e_reverse_1f6de &lt;= 0</td>\n",
       "    </tr>\n",
       "    <tr>\n",
       "      <th>EX_succ_e</th>\n",
       "      <td>0</td>\n",
       "      <td>1000</td>\n",
       "      <td>False</td>\n",
       "      <td>True</td>\n",
       "      <td>0</td>\n",
       "      <td>0.0 &lt;= EX_succ_e &lt;= 1000.0</td>\n",
       "      <td>0 &lt;= EX_succ_e_reverse_a9039 &lt;= 0</td>\n",
       "    </tr>\n",
       "    <tr>\n",
       "      <th>EX_X</th>\n",
       "      <td>0</td>\n",
       "      <td>1000</td>\n",
       "      <td>False</td>\n",
       "      <td>True</td>\n",
       "      <td>0</td>\n",
       "      <td>0.0 &lt;= EX_X &lt;= 1000.0</td>\n",
       "      <td>0 &lt;= EX_X_reverse_ff29b &lt;= 0</td>\n",
       "    </tr>\n",
       "  </tbody>\n",
       "</table>\n",
       "</div>"
      ],
      "text/plain": [
       "               lb    ub reversibility boundary objective_coefficient  \\\n",
       "EX_ac_e         0  1000         False     True                     0   \n",
       "EX_acald_e      0  1000         False     True                     0   \n",
       "EX_akg_e        0  1000         False     True                     0   \n",
       "EX_co2_e    -1000  1000          True     True                     0   \n",
       "EX_etoh_e       0  1000         False     True                     0   \n",
       "EX_for_e        0  1000         False     True                     0   \n",
       "EX_fru_e        0  1000         False     True                     0   \n",
       "EX_fum_e        0  1000         False     True                     0   \n",
       "EX_glc__D_e   -10  1000          True     True                     0   \n",
       "EX_gln__L_e     0  1000         False     True                     0   \n",
       "EX_glu__L_e     0  1000         False     True                     0   \n",
       "EX_h_e      -1000  1000          True     True                     0   \n",
       "EX_h2o_e    -1000  1000          True     True                     0   \n",
       "EX_lac__D_e     0  1000         False     True                     0   \n",
       "EX_mal__L_e     0  1000         False     True                     0   \n",
       "EX_nh4_e    -1000  1000          True     True                     0   \n",
       "EX_o2_e     -1000  1000          True     True                     0   \n",
       "EX_pi_e     -1000  1000          True     True                     0   \n",
       "EX_pyr_e        0  1000         False     True                     0   \n",
       "EX_succ_e       0  1000         False     True                     0   \n",
       "EX_X            0  1000         False     True                     0   \n",
       "\n",
       "                         forward_variable  \\\n",
       "EX_ac_e          0.0 <= EX_ac_e <= 1000.0   \n",
       "EX_acald_e    0.0 <= EX_acald_e <= 1000.0   \n",
       "EX_akg_e        0.0 <= EX_akg_e <= 1000.0   \n",
       "EX_co2_e          0 <= EX_co2_e <= 1000.0   \n",
       "EX_etoh_e      0.0 <= EX_etoh_e <= 1000.0   \n",
       "EX_for_e        0.0 <= EX_for_e <= 1000.0   \n",
       "EX_fru_e        0.0 <= EX_fru_e <= 1000.0   \n",
       "EX_fum_e        0.0 <= EX_fum_e <= 1000.0   \n",
       "EX_glc__D_e    0 <= EX_glc__D_e <= 1000.0   \n",
       "EX_gln__L_e  0.0 <= EX_gln__L_e <= 1000.0   \n",
       "EX_glu__L_e  0.0 <= EX_glu__L_e <= 1000.0   \n",
       "EX_h_e              0 <= EX_h_e <= 1000.0   \n",
       "EX_h2o_e          0 <= EX_h2o_e <= 1000.0   \n",
       "EX_lac__D_e  0.0 <= EX_lac__D_e <= 1000.0   \n",
       "EX_mal__L_e  0.0 <= EX_mal__L_e <= 1000.0   \n",
       "EX_nh4_e          0 <= EX_nh4_e <= 1000.0   \n",
       "EX_o2_e            0 <= EX_o2_e <= 1000.0   \n",
       "EX_pi_e            0 <= EX_pi_e <= 1000.0   \n",
       "EX_pyr_e        0.0 <= EX_pyr_e <= 1000.0   \n",
       "EX_succ_e      0.0 <= EX_succ_e <= 1000.0   \n",
       "EX_X                0.0 <= EX_X <= 1000.0   \n",
       "\n",
       "                                   reverse_variable  \n",
       "EX_ac_e             0 <= EX_ac_e_reverse_0be96 <= 0  \n",
       "EX_acald_e       0 <= EX_acald_e_reverse_c096e <= 0  \n",
       "EX_akg_e           0 <= EX_akg_e_reverse_70d85 <= 0  \n",
       "EX_co2_e      0 <= EX_co2_e_reverse_d0466 <= 1000.0  \n",
       "EX_etoh_e         0 <= EX_etoh_e_reverse_cc64f <= 0  \n",
       "EX_for_e           0 <= EX_for_e_reverse_23269 <= 0  \n",
       "EX_fru_e           0 <= EX_fru_e_reverse_c3828 <= 0  \n",
       "EX_fum_e           0 <= EX_fum_e_reverse_e3432 <= 0  \n",
       "EX_glc__D_e  0 <= EX_glc__D_e_reverse_af641 <= 10.0  \n",
       "EX_gln__L_e     0 <= EX_gln__L_e_reverse_6a1a1 <= 0  \n",
       "EX_glu__L_e     0 <= EX_glu__L_e_reverse_42f6c <= 0  \n",
       "EX_h_e          0 <= EX_h_e_reverse_3e0c5 <= 1000.0  \n",
       "EX_h2o_e      0 <= EX_h2o_e_reverse_3ced4 <= 1000.0  \n",
       "EX_lac__D_e     0 <= EX_lac__D_e_reverse_f95b4 <= 0  \n",
       "EX_mal__L_e     0 <= EX_mal__L_e_reverse_af154 <= 0  \n",
       "EX_nh4_e      0 <= EX_nh4_e_reverse_f9cc6 <= 1000.0  \n",
       "EX_o2_e        0 <= EX_o2_e_reverse_efa94 <= 1000.0  \n",
       "EX_pi_e        0 <= EX_pi_e_reverse_1fb09 <= 1000.0  \n",
       "EX_pyr_e           0 <= EX_pyr_e_reverse_1f6de <= 0  \n",
       "EX_succ_e         0 <= EX_succ_e_reverse_a9039 <= 0  \n",
       "EX_X                   0 <= EX_X_reverse_ff29b <= 0  "
      ]
     },
     "execution_count": 4,
     "metadata": {},
     "output_type": "execute_result"
    }
   ],
   "source": [
    "# Exchange reactions\n",
    "ex_idx = df.index.str.contains('^EX_')\n",
    "df[ex_idx]"
   ]
  },
  {
   "cell_type": "code",
   "execution_count": 6,
   "metadata": {
    "collapsed": false
   },
   "outputs": [
    {
     "data": {
      "text/plain": [
       "'1.496 3pg_c + 3.7478 accoa_c + 59.81 atp_c + 0.361 e4p_c + 0.0709 f6p_c + 0.129 g3p_c + 0.205 g6p_c + 0.2557 gln__L_c + 4.9414 glu__L_c + 59.81 h2o_c + 3.547 nad_c + 13.0279 nadph_c + 1.7867 oaa_c + 0.5191 pep_c + 2.8328 pyr_c + 0.8977 r5p_c --> X + 59.81 adp_c + 4.1182 akg_c + 3.7478 coa_c + 59.81 h_c + 3.547 nadh_c + 13.0279 nadp_c + 59.81 pi_c'"
      ]
     },
     "execution_count": 6,
     "metadata": {},
     "output_type": "execute_result"
    }
   ],
   "source": [
    "model.reactions.BIOMASS_Ecoli_core_w_GAM.reaction"
   ]
  },
  {
   "cell_type": "code",
   "execution_count": 7,
   "metadata": {
    "collapsed": false,
    "deletable": true,
    "editable": true
   },
   "outputs": [
    {
     "name": "stdout",
     "output_type": "stream",
     "text": [
      "IN FLUXES                       OUT FLUXES                     OBJECTIVES\n",
      "------------------------------  -----------------------------  ----------------------\n",
      "id          Flux  Range         id       Flux  Range           BIOMASS_Ecol...  0.917\n",
      "--------  ------  ------------  -----  ------  --------------\n",
      "o2_e       19.9   [19.9, 19.9]  h2o_e  27.7    [27.7, 27.7]\n",
      "glc__D_e   10     [10, 10]      co2_e  21      [21, 21]\n",
      "nh4_e       5     [5, 5]        h_e    18.4    [18.4, 18.4]\n",
      "pi_e        3.37  [3.37, 3.37]  X       0.917  [0.917, 0.917]\n"
     ]
    }
   ],
   "source": [
    "# optimize\n",
    "s = model.optimize(objective_sense=\"maximize\")\n",
    "model.summary(fva=True)"
   ]
  },
  {
   "cell_type": "code",
   "execution_count": 6,
   "metadata": {
    "collapsed": false,
    "deletable": true,
    "editable": true
   },
   "outputs": [
    {
     "name": "stdout",
     "output_type": "stream",
     "text": [
      "IN FLUXES                       OUT FLUXES                   OBJECTIVES\n",
      "------------------------------  ---------------------------  ----------------------\n",
      "id          Flux  Range         id       Flux  Range         BIOMASS_Ecol...  0.874\n",
      "--------  ------  ------------  -----  ------  ------------\n",
      "o2_e       21.8   [21.8, 21.8]  h2o_e    29.2  [29.2, 29.2]\n",
      "glc__D_e   10     [10, 10]      co2_e    22.8  [22.8, 22.8]\n",
      "nh4_e       4.77  [4.77, 4.77]  h_e      17.5  [17.5, 17.5]\n",
      "pi_e        3.21  [3.21, 3.21]\n"
     ]
    }
   ],
   "source": [
    "# pfba (minimal flux)\n",
    "# no difference, the flux variability analysis \n",
    "# already showed us that the model has unique solution under given bounds \n",
    "s = model.optimize(objective_sense=\"maximize\")\n",
    "cobra.flux_analysis.pfba(model)\n",
    "model.summary(fva=True)"
   ]
  },
  {
   "cell_type": "markdown",
   "metadata": {
    "deletable": true,
    "editable": true
   },
   "source": [
    "Network map:  \n",
    "https://escher.github.io/builder/index.html?enable_editing=true&map_name=e_coli_core.Core%20metabolism"
   ]
  },
  {
   "cell_type": "code",
   "execution_count": 7,
   "metadata": {
    "collapsed": false,
    "deletable": true,
    "editable": true
   },
   "outputs": [
    {
     "name": "stdout",
     "output_type": "stream",
     "text": [
      "PRODUCING REACTIONS -- D-Glucose (glc__D_e)\n",
      "-------------------------------------------\n",
      "%       FLUX  RXN ID      REACTION\n",
      "----  ------  ----------  ----------------------------------\n",
      "100%      10  EX_glc_...  glc__D_e <=>\n",
      "\n",
      "CONSUMING REACTIONS -- D-Glucose (glc__D_e)\n",
      "-------------------------------------------\n",
      "%       FLUX  RXN ID      REACTION\n",
      "----  ------  ----------  ----------------------------------\n",
      "100%      10  GLCpts      glc__D_e + pep_c --> g6p_c + pyr_c\n",
      "None\n"
     ]
    }
   ],
   "source": [
    "# what happens to glucose ?\n",
    "# single reaction to \n",
    "print(model.metabolites.glc__D_e.summary())"
   ]
  },
  {
   "cell_type": "code",
   "execution_count": 12,
   "metadata": {
    "collapsed": false,
    "deletable": true,
    "editable": true
   },
   "outputs": [
    {
     "name": "stdout",
     "output_type": "stream",
     "text": [
      "atp_c + h2o_c --> adp_c + h_c + pi_c\n"
     ]
    }
   ],
   "source": [
    "# What is going on with the ATPM reaction\n",
    "print(model.reactions.ATPM.reaction)"
   ]
  },
  {
   "cell_type": "code",
   "execution_count": null,
   "metadata": {
    "collapsed": false,
    "deletable": true,
    "editable": true
   },
   "outputs": [],
   "source": [
    "# gene and reaction deletions\n",
    "from cobra.flux_analysis import (\n",
    "    single_gene_deletion, single_reaction_deletion, double_gene_deletion,\n",
    "    double_reaction_deletion)\n",
    "# single_gene_deletion(model)\n",
    "import numpy as np\n",
    "r_del = single_reaction_deletion(model)\n",
    "r_del['percent'] = np.round(r_del['flux']/0.874, 3)\n",
    "r_del.sort_values(by=['flux'])"
   ]
  },
  {
   "cell_type": "markdown",
   "metadata": {
    "collapsed": true,
    "deletable": true,
    "editable": true
   },
   "source": [
    "## Change the bounds\n",
    "Driving the model via changing the bounds of the exchange reactions\n",
    "* in coupling based on maximal uptake rates and availability of substrate"
   ]
  },
  {
   "cell_type": "code",
   "execution_count": null,
   "metadata": {
    "collapsed": false,
    "deletable": true,
    "editable": true
   },
   "outputs": [],
   "source": [
    "import numpy as np\n",
    "import pandas as pd\n",
    "\n",
    "# set of bounds (we can't go to zero, a minimal amount of glc is needed for biomass generation)\n",
    "# More complete models could switch to alternative carbon sources\n",
    "glc_bounds = np.linspace(-10, -0.5, 10)\n",
    "\n",
    "results = []\n",
    "for lb_glc in glc_bounds:\n",
    "    # set the lower bound (uptake direction) of the exchange reaction\n",
    "    print(lb_glc)\n",
    "    model.reactions.get_by_id(\"EX_glc__D_e\").lower_bound = lb_glc\n",
    "    # pFBA\n",
    "    s = model.optimize(objective_sense=\"maximize\")\n",
    "    s = cobra.flux_analysis.pfba(model)\n",
    "    model.summary(fva=True)\n",
    "    \n",
    "    fluxes = s.fluxes\n",
    "    results.append(fluxes)\n",
    "df = pd.DataFrame(results)"
   ]
  },
  {
   "cell_type": "code",
   "execution_count": null,
   "metadata": {
    "collapsed": true,
    "deletable": true,
    "editable": true
   },
   "outputs": [],
   "source": [
    "# Find Exchange reactions & Internal Reactions\n",
    "ex_rids = []\n",
    "in_rids = []\n",
    "for r in model.reactions:\n",
    "    rid = r.id\n",
    "    if (rid.startswith('EX_')):\n",
    "        ex_rids.append(rid)\n",
    "    else:\n",
    "        in_rids.append(rid)\n",
    "        \n",
    "# print(ex_rids)\n",
    "# print()\n",
    "# print(in_rids)"
   ]
  },
  {
   "cell_type": "code",
   "execution_count": null,
   "metadata": {
    "collapsed": false,
    "deletable": true,
    "editable": true
   },
   "outputs": [],
   "source": [
    "# Plot internal, external, and biomass reactions\n",
    "fig, ((ax1, ax2),(ax3, ax4)) = plt.subplots(nrows=2, ncols=2, figsize=(12, 12))\n",
    "\n",
    "for rid in ex_rids:\n",
    "    ax1.plot(glc_bounds, df[rid], marker='s', alpha=0.8, label=rid)\n",
    "\n",
    "for rid in in_rids:\n",
    "    ax2.plot(glc_bounds, df[rid], marker='s', alpha=0.8, label=rid)\n",
    "\n",
    "ax3.plot(glc_bounds, df[\"BIOMASS_Ecoli_core_w_GAM\"], color=\"black\", label=\"biomass\",\n",
    "        marker=\"s\")\n",
    "    \n",
    "for ax in [ax1, ax2, ax3]:\n",
    "    ax.set_xlabel('lb glc (EC_glc__D_e)')\n",
    "    ax.set_xlim(-10,3)\n",
    "\n",
    "ax1.legend()\n",
    "ax3.legend()\n",
    "\n",
    "plt.show()\n",
    "fig.savefig(\"ecoli_glc_dependency.png\", bbox=\"tight\")"
   ]
  },
  {
   "cell_type": "code",
   "execution_count": null,
   "metadata": {
    "collapsed": true,
    "deletable": true,
    "editable": true
   },
   "outputs": [],
   "source": []
  }
 ],
 "metadata": {
  "kernelspec": {
   "display_name": "Python 2",
   "language": "python",
   "name": "python2"
  },
  "language_info": {
   "codemirror_mode": {
    "name": "ipython",
    "version": 2
   },
   "file_extension": ".py",
   "mimetype": "text/x-python",
   "name": "python",
   "nbconvert_exporter": "python",
   "pygments_lexer": "ipython2",
   "version": "2.7.6"
  }
 },
 "nbformat": 4,
 "nbformat_minor": 0
}
