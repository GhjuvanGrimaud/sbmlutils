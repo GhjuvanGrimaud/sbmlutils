{
 "cells": [
  {
   "cell_type": "markdown",
   "metadata": {
    "collapsed": true
   },
   "source": [
    "## FBA simulation toy_atp\n",
    "Simulating the FBA part."
   ]
  },
  {
   "cell_type": "code",
   "execution_count": 1,
   "metadata": {},
   "outputs": [],
   "source": [
    "from __future__ import print_function, absolute_import\n",
    "\n",
    "import pandas as pd\n",
    "import cobra\n",
    "from matplotlib import pyplot as plt\n",
    "\n",
    "from sbmlutils import fbc\n",
    "from sbmlutils.dfba.analysis import set_matplotlib_parameters\n",
    "from sbmlutils.dfba.toy_atp import model_factory\n",
    "\n",
    "set_matplotlib_parameters()"
   ]
  },
  {
   "cell_type": "code",
   "execution_count": 4,
   "metadata": {},
   "outputs": [
    {
     "name": "stdout",
     "output_type": "stream",
     "text": [
      "./results/v1/toy_atp_fba.xml\n"
     ]
    },
    {
     "data": {
      "text/plain": [
       "(<Model toy_atp_fba at 0x7f69357a7b00>,\n",
       " {'SBML errors': [], 'other': [], 'validator': [], 'warnings': []})"
      ]
     },
     "execution_count": 4,
     "metadata": {},
     "output_type": "execute_result"
    }
   ],
   "source": [
    "# load model\n",
    "sbml_path = './results/v{}/toy_atp_fba.xml'.format(model_factory.version)\n",
    "print(sbml_path)\n",
    "model = cobra.io.read_sbml_model(sbml_path)\n",
    "cobra.io.sbml3.validate_sbml_model(sbml_path)"
   ]
  },
  {
   "cell_type": "code",
   "execution_count": 7,
   "metadata": {},
   "outputs": [
    {
     "name": "stdout",
     "output_type": "stream",
     "text": [
      "          lb     ub reversibility boundary objective_coefficient  \\\n",
      "R1         0   1000         False    False                     0   \n",
      "R2         0   1000         False    False                     0   \n",
      "R3         0   1000         False    False                     0   \n",
      "RATP       0  0.001         False    False                     1   \n",
      "EX_atp -1000   1000          True     True                     0   \n",
      "EX_adp -1000   1000          True     True                     0   \n",
      "EX_glc -1000   1000          True     True                     0   \n",
      "EX_pyr -1000   1000          True     True                     0   \n",
      "\n",
      "             forward_variable                     reverse_variable  \n",
      "R1        0.0 <= R1 <= 1000.0           0 <= R1_reverse_cda52 <= 0  \n",
      "R2        0.0 <= R2 <= 1000.0           0 <= R2_reverse_8c6d2 <= 0  \n",
      "R3        0.0 <= R3 <= 1000.0           0 <= R3_reverse_5c108 <= 0  \n",
      "RATP     0.0 <= RATP <= 0.001         0 <= RATP_reverse_50e25 <= 0  \n",
      "EX_atp  0 <= EX_atp <= 1000.0  0 <= EX_atp_reverse_dfd97 <= 1000.0  \n",
      "EX_adp  0 <= EX_adp <= 1000.0  0 <= EX_adp_reverse_76b83 <= 1000.0  \n",
      "EX_glc  0 <= EX_glc <= 1000.0  0 <= EX_glc_reverse_8e37d <= 1000.0  \n",
      "EX_pyr  0 <= EX_pyr <= 1000.0  0 <= EX_pyr_reverse_03be5 <= 1000.0  \n",
      "reactions: 8\n",
      "metabolites: 6\n",
      "genes: 0\n"
     ]
    }
   ],
   "source": [
    "# objective function & boundaries\n",
    "# pprint(mfba.objective)\n",
    "df = fbc.cobra_reaction_info(model)\n",
    "print(df)\n",
    "print(\"reactions:\", len(model.reactions))\n",
    "print(\"metabolites:\", len(model.metabolites))\n",
    "print(\"genes:\", len(model.genes))"
   ]
  },
  {
   "cell_type": "code",
   "execution_count": 8,
   "metadata": {},
   "outputs": [
    {
     "data": {
      "text/html": [
       "<div>\n",
       "<style>\n",
       "    .dataframe thead tr:only-child th {\n",
       "        text-align: right;\n",
       "    }\n",
       "\n",
       "    .dataframe thead th {\n",
       "        text-align: left;\n",
       "    }\n",
       "\n",
       "    .dataframe tbody tr th {\n",
       "        vertical-align: top;\n",
       "    }\n",
       "</style>\n",
       "<table border=\"1\" class=\"dataframe\">\n",
       "  <thead>\n",
       "    <tr style=\"text-align: right;\">\n",
       "      <th></th>\n",
       "      <th>lb</th>\n",
       "      <th>ub</th>\n",
       "      <th>reversibility</th>\n",
       "      <th>boundary</th>\n",
       "      <th>objective_coefficient</th>\n",
       "      <th>forward_variable</th>\n",
       "      <th>reverse_variable</th>\n",
       "    </tr>\n",
       "  </thead>\n",
       "  <tbody>\n",
       "    <tr>\n",
       "      <th>EX_atp</th>\n",
       "      <td>-1000</td>\n",
       "      <td>1000</td>\n",
       "      <td>True</td>\n",
       "      <td>True</td>\n",
       "      <td>0</td>\n",
       "      <td>0 &lt;= EX_atp &lt;= 1000.0</td>\n",
       "      <td>0 &lt;= EX_atp_reverse_dfd97 &lt;= 1000.0</td>\n",
       "    </tr>\n",
       "    <tr>\n",
       "      <th>EX_adp</th>\n",
       "      <td>-1000</td>\n",
       "      <td>1000</td>\n",
       "      <td>True</td>\n",
       "      <td>True</td>\n",
       "      <td>0</td>\n",
       "      <td>0 &lt;= EX_adp &lt;= 1000.0</td>\n",
       "      <td>0 &lt;= EX_adp_reverse_76b83 &lt;= 1000.0</td>\n",
       "    </tr>\n",
       "    <tr>\n",
       "      <th>EX_glc</th>\n",
       "      <td>-1000</td>\n",
       "      <td>1000</td>\n",
       "      <td>True</td>\n",
       "      <td>True</td>\n",
       "      <td>0</td>\n",
       "      <td>0 &lt;= EX_glc &lt;= 1000.0</td>\n",
       "      <td>0 &lt;= EX_glc_reverse_8e37d &lt;= 1000.0</td>\n",
       "    </tr>\n",
       "    <tr>\n",
       "      <th>EX_pyr</th>\n",
       "      <td>-1000</td>\n",
       "      <td>1000</td>\n",
       "      <td>True</td>\n",
       "      <td>True</td>\n",
       "      <td>0</td>\n",
       "      <td>0 &lt;= EX_pyr &lt;= 1000.0</td>\n",
       "      <td>0 &lt;= EX_pyr_reverse_03be5 &lt;= 1000.0</td>\n",
       "    </tr>\n",
       "  </tbody>\n",
       "</table>\n",
       "</div>"
      ],
      "text/plain": [
       "          lb    ub reversibility boundary objective_coefficient  \\\n",
       "EX_atp -1000  1000          True     True                     0   \n",
       "EX_adp -1000  1000          True     True                     0   \n",
       "EX_glc -1000  1000          True     True                     0   \n",
       "EX_pyr -1000  1000          True     True                     0   \n",
       "\n",
       "             forward_variable                     reverse_variable  \n",
       "EX_atp  0 <= EX_atp <= 1000.0  0 <= EX_atp_reverse_dfd97 <= 1000.0  \n",
       "EX_adp  0 <= EX_adp <= 1000.0  0 <= EX_adp_reverse_76b83 <= 1000.0  \n",
       "EX_glc  0 <= EX_glc <= 1000.0  0 <= EX_glc_reverse_8e37d <= 1000.0  \n",
       "EX_pyr  0 <= EX_pyr <= 1000.0  0 <= EX_pyr_reverse_03be5 <= 1000.0  "
      ]
     },
     "execution_count": 8,
     "metadata": {},
     "output_type": "execute_result"
    }
   ],
   "source": [
    "# Exchange reactions\n",
    "ex_idx = df.index.str.contains('^EX_')\n",
    "df[ex_idx]"
   ]
  },
  {
   "cell_type": "code",
   "execution_count": 9,
   "metadata": {},
   "outputs": [
    {
     "name": "stdout",
     "output_type": "stream",
     "text": [
      "IN FLUXES                     OUT FLUXES                    OBJECTIVES\n",
      "----------------------------  ----------------------------  ------------\n",
      "id      Flux  Range           id      Flux  Range           RATP  0.001\n",
      "----  ------  --------------  ----  ------  --------------\n",
      "atp    0.001  [0.001, 0.001]  adp    0.001  [0.001, 0.001]\n",
      "glc    0      [0, 500]        pyr    0      [0, 1e+03]\n"
     ]
    }
   ],
   "source": [
    "# optimize\n",
    "s = model.optimize(objective_sense=\"maximize\")\n",
    "model.summary(fva=True)"
   ]
  },
  {
   "cell_type": "code",
   "execution_count": null,
   "metadata": {},
   "outputs": [],
   "source": [
    "# pfba (minimal flux)\n",
    "# no difference, the flux variability analysis \n",
    "# already showed us that the model has unique solution under given bounds \n",
    "s = model.optimize(objective_sense=\"maximize\")\n",
    "cobra.flux_analysis.pfba(model)\n",
    "model.summary(fva=True)"
   ]
  },
  {
   "cell_type": "markdown",
   "metadata": {},
   "source": [
    "Network map:  \n",
    "https://escher.github.io/builder/index.html?enable_editing=true&map_name=e_coli_core.Core%20metabolism"
   ]
  },
  {
   "cell_type": "code",
   "execution_count": null,
   "metadata": {},
   "outputs": [],
   "source": [
    "# what happens to glucose ?\n",
    "# single reaction to \n",
    "print(model.metabolites.glc__D_e.summary())"
   ]
  },
  {
   "cell_type": "code",
   "execution_count": null,
   "metadata": {},
   "outputs": [],
   "source": [
    "# What is going on with the ATPM reaction\n",
    "print(model.reactions.ATPM.reaction)"
   ]
  },
  {
   "cell_type": "code",
   "execution_count": null,
   "metadata": {},
   "outputs": [],
   "source": [
    "# gene and reaction deletions\n",
    "from cobra.flux_analysis import (\n",
    "    single_gene_deletion, single_reaction_deletion, double_gene_deletion,\n",
    "    double_reaction_deletion)\n",
    "# single_gene_deletion(model)\n",
    "import numpy as np\n",
    "r_del = single_reaction_deletion(model)\n",
    "r_del['percent'] = np.round(r_del['flux']/0.9166, 3)\n",
    "r_del.sort_values(by=['flux'])"
   ]
  },
  {
   "cell_type": "markdown",
   "metadata": {
    "collapsed": true
   },
   "source": [
    "## Change the bounds\n",
    "Driving the model via changing the bounds of the exchange reactions\n",
    "* in coupling based on maximal uptake rates and availability of substrate"
   ]
  },
  {
   "cell_type": "code",
   "execution_count": null,
   "metadata": {},
   "outputs": [],
   "source": [
    "import numpy as np\n",
    "import pandas as pd\n",
    "\n",
    "# set of bounds (we can't go to zero, a minimal amount of glc is needed for biomass generation)\n",
    "# More complete models could switch to alternative carbon sources\n",
    "glc_bounds = np.linspace(-10, -0.5, 10)\n",
    "\n",
    "results = []\n",
    "for lb_glc in glc_bounds:\n",
    "    # set the lower bound (uptake direction) of the exchange reaction\n",
    "    print(lb_glc)\n",
    "    model.reactions.get_by_id(\"EX_glc__D_e\").lower_bound = lb_glc\n",
    "    # pFBA\n",
    "    s = model.optimize(objective_sense=\"maximize\")\n",
    "    s = cobra.flux_analysis.pfba(model)\n",
    "    model.summary(fva=True)\n",
    "    \n",
    "    fluxes = s.fluxes\n",
    "    results.append(fluxes)\n",
    "df = pd.DataFrame(results)"
   ]
  },
  {
   "cell_type": "code",
   "execution_count": null,
   "metadata": {
    "collapsed": true
   },
   "outputs": [],
   "source": [
    "# Find Exchange reactions & Internal Reactions\n",
    "ex_rids = []\n",
    "in_rids = []\n",
    "for r in model.reactions:\n",
    "    rid = r.id\n",
    "    if (rid.startswith('EX_')):\n",
    "        ex_rids.append(rid)\n",
    "    else:\n",
    "        in_rids.append(rid)\n",
    "        \n",
    "# print(ex_rids)\n",
    "# print()\n",
    "# print(in_rids)"
   ]
  },
  {
   "cell_type": "code",
   "execution_count": null,
   "metadata": {},
   "outputs": [],
   "source": [
    "# Plot internal, external, and biomass reactions\n",
    "fig, ((ax1, ax2),(ax3, ax4)) = plt.subplots(nrows=2, ncols=2, figsize=(12, 12))\n",
    "\n",
    "for rid in ex_rids:\n",
    "    ax1.plot(glc_bounds, df[rid], marker='s', alpha=0.8, label=rid)\n",
    "\n",
    "for rid in in_rids:\n",
    "    ax2.plot(glc_bounds, df[rid], marker='s', alpha=0.8, label=rid)\n",
    "\n",
    "ax3.plot(glc_bounds, df[\"BIOMASS_Ecoli_core_w_GAM\"], color=\"black\", label=\"biomass\",\n",
    "        marker=\"s\")\n",
    "    \n",
    "for ax in [ax1, ax2, ax3]:\n",
    "    ax.set_xlabel('lb glc (EC_glc__D_e)')\n",
    "    ax.set_xlim(-10,3)\n",
    "\n",
    "ax1.legend()\n",
    "ax3.legend()\n",
    "\n",
    "plt.show()\n",
    "fig.savefig(\"ecoli_glc_dependency.png\", bbox=\"tight\")"
   ]
  },
  {
   "cell_type": "code",
   "execution_count": null,
   "metadata": {
    "collapsed": true
   },
   "outputs": [],
   "source": []
  },
  {
   "cell_type": "code",
   "execution_count": null,
   "metadata": {
    "collapsed": true
   },
   "outputs": [],
   "source": []
  }
 ],
 "metadata": {
  "kernelspec": {
   "display_name": "dfba",
   "language": "python",
   "name": "dfba"
  },
  "language_info": {
   "codemirror_mode": {
    "name": "ipython",
    "version": 3
   },
   "file_extension": ".py",
   "mimetype": "text/x-python",
   "name": "python",
   "nbconvert_exporter": "python",
   "pygments_lexer": "ipython3",
   "version": "3.5.2"
  }
 },
 "nbformat": 4,
 "nbformat_minor": 1
}
