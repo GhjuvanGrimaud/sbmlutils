{
 "cells": [
  {
   "cell_type": "markdown",
   "metadata": {
    "collapsed": true
   },
   "source": [
    "## FBA simulation\n",
    "Simulating the FBA part of the diauxic growth model with `cobrapy` to check that the FBA part is working.\n",
    "This requires\n",
    "* `cobrapy >= 0.6.0a3`"
   ]
  },
  {
   "cell_type": "code",
   "execution_count": 1,
   "metadata": {
    "collapsed": false
   },
   "outputs": [
    {
     "name": "stderr",
     "output_type": "stream",
     "text": [
      "/usr/local/lib/python2.7/dist-packages/optlang/gurobi_interface.py:26: UserWarning: Be careful! The GUROBI interface is still under construction ...\n",
      "  warn(\"Be careful! The GUROBI interface is still under construction ...\")\n"
     ]
    }
   ],
   "source": [
    "from __future__ import print_function, absolute_import\n",
    "\n",
    "import pandas as pd\n",
    "import cobra\n",
    "from matplotlib import pyplot as plt\n",
    "\n",
    "from sbmlutils import fbc\n",
    "from sbmlutils.dfba.analysis import set_matplotlib_parameters\n",
    "from sbmlutils.dfba.diauxic_growth import model_factory\n",
    "\n",
    "set_matplotlib_parameters()"
   ]
  },
  {
   "cell_type": "code",
   "execution_count": 2,
   "metadata": {
    "collapsed": false
   },
   "outputs": [
    {
     "name": "stdout",
     "output_type": "stream",
     "text": [
      "./results/v9/diauxic_fba.xml\n"
     ]
    },
    {
     "data": {
      "text/plain": [
       "(<Model diauxic_fba at 0x7ff392c0fe50>,\n",
       " {'SBML errors': [], 'other': [], 'validator': [], 'warnings': []})"
      ]
     },
     "execution_count": 2,
     "metadata": {},
     "output_type": "execute_result"
    }
   ],
   "source": [
    "# load model\n",
    "sbml_path = './results/v{}/diauxic_fba.xml'.format(model_factory.version)\n",
    "print(sbml_path)\n",
    "mfba = cobra.io.read_sbml_model(sbml_path)\n",
    "cobra.io.sbml3.validate_sbml_model(sbml_path)"
   ]
  },
  {
   "cell_type": "code",
   "execution_count": 3,
   "metadata": {
    "collapsed": false
   },
   "outputs": [
    {
     "data": {
      "text/html": [
       "<div>\n",
       "<table border=\"1\" class=\"dataframe\">\n",
       "  <thead>\n",
       "    <tr style=\"text-align: right;\">\n",
       "      <th></th>\n",
       "      <th>lb</th>\n",
       "      <th>ub</th>\n",
       "      <th>reversibility</th>\n",
       "      <th>boundary</th>\n",
       "      <th>objective_coefficient</th>\n",
       "      <th>forward_variable</th>\n",
       "      <th>reverse_variable</th>\n",
       "    </tr>\n",
       "  </thead>\n",
       "  <tbody>\n",
       "    <tr>\n",
       "      <th>v1</th>\n",
       "      <td>0</td>\n",
       "      <td>1000</td>\n",
       "      <td>False</td>\n",
       "      <td>False</td>\n",
       "      <td>1</td>\n",
       "      <td>0.0 &lt;= v1 &lt;= 1000.0</td>\n",
       "      <td>0 &lt;= v1_reverse_6654c &lt;= 0</td>\n",
       "    </tr>\n",
       "    <tr>\n",
       "      <th>v2</th>\n",
       "      <td>0</td>\n",
       "      <td>1000</td>\n",
       "      <td>False</td>\n",
       "      <td>False</td>\n",
       "      <td>1</td>\n",
       "      <td>0.0 &lt;= v2 &lt;= 1000.0</td>\n",
       "      <td>0 &lt;= v2_reverse_1b267 &lt;= 0</td>\n",
       "    </tr>\n",
       "    <tr>\n",
       "      <th>v3</th>\n",
       "      <td>0</td>\n",
       "      <td>1000</td>\n",
       "      <td>False</td>\n",
       "      <td>False</td>\n",
       "      <td>1</td>\n",
       "      <td>0.0 &lt;= v3 &lt;= 1000.0</td>\n",
       "      <td>0 &lt;= v3_reverse_43a03 &lt;= 0</td>\n",
       "    </tr>\n",
       "    <tr>\n",
       "      <th>v4</th>\n",
       "      <td>0</td>\n",
       "      <td>1000</td>\n",
       "      <td>False</td>\n",
       "      <td>False</td>\n",
       "      <td>1</td>\n",
       "      <td>0.0 &lt;= v4 &lt;= 1000.0</td>\n",
       "      <td>0 &lt;= v4_reverse_5ed3a &lt;= 0</td>\n",
       "    </tr>\n",
       "    <tr>\n",
       "      <th>EX_Ac</th>\n",
       "      <td>-1000</td>\n",
       "      <td>1000</td>\n",
       "      <td>True</td>\n",
       "      <td>True</td>\n",
       "      <td>0</td>\n",
       "      <td>0 &lt;= EX_Ac &lt;= 1000.0</td>\n",
       "      <td>0 &lt;= EX_Ac_reverse_3765e &lt;= 1000.0</td>\n",
       "    </tr>\n",
       "    <tr>\n",
       "      <th>EX_Glcxt</th>\n",
       "      <td>-1000</td>\n",
       "      <td>0</td>\n",
       "      <td>False</td>\n",
       "      <td>True</td>\n",
       "      <td>0</td>\n",
       "      <td>0 &lt;= EX_Glcxt &lt;= 0.0</td>\n",
       "      <td>0 &lt;= EX_Glcxt_reverse_34a63 &lt;= 1000.0</td>\n",
       "    </tr>\n",
       "    <tr>\n",
       "      <th>EX_O2</th>\n",
       "      <td>-1000</td>\n",
       "      <td>0</td>\n",
       "      <td>False</td>\n",
       "      <td>True</td>\n",
       "      <td>0</td>\n",
       "      <td>0 &lt;= EX_O2 &lt;= 0.0</td>\n",
       "      <td>0 &lt;= EX_O2_reverse_23804 &lt;= 1000.0</td>\n",
       "    </tr>\n",
       "    <tr>\n",
       "      <th>EX_X</th>\n",
       "      <td>-1000</td>\n",
       "      <td>0</td>\n",
       "      <td>False</td>\n",
       "      <td>True</td>\n",
       "      <td>0</td>\n",
       "      <td>0 &lt;= EX_X &lt;= 0.0</td>\n",
       "      <td>0 &lt;= EX_X_reverse_ff29b &lt;= 1000.0</td>\n",
       "    </tr>\n",
       "  </tbody>\n",
       "</table>\n",
       "</div>"
      ],
      "text/plain": [
       "            lb    ub reversibility boundary objective_coefficient  \\\n",
       "v1           0  1000         False    False                     1   \n",
       "v2           0  1000         False    False                     1   \n",
       "v3           0  1000         False    False                     1   \n",
       "v4           0  1000         False    False                     1   \n",
       "EX_Ac    -1000  1000          True     True                     0   \n",
       "EX_Glcxt -1000     0         False     True                     0   \n",
       "EX_O2    -1000     0         False     True                     0   \n",
       "EX_X     -1000     0         False     True                     0   \n",
       "\n",
       "              forward_variable                       reverse_variable  \n",
       "v1         0.0 <= v1 <= 1000.0             0 <= v1_reverse_6654c <= 0  \n",
       "v2         0.0 <= v2 <= 1000.0             0 <= v2_reverse_1b267 <= 0  \n",
       "v3         0.0 <= v3 <= 1000.0             0 <= v3_reverse_43a03 <= 0  \n",
       "v4         0.0 <= v4 <= 1000.0             0 <= v4_reverse_5ed3a <= 0  \n",
       "EX_Ac     0 <= EX_Ac <= 1000.0     0 <= EX_Ac_reverse_3765e <= 1000.0  \n",
       "EX_Glcxt  0 <= EX_Glcxt <= 0.0  0 <= EX_Glcxt_reverse_34a63 <= 1000.0  \n",
       "EX_O2        0 <= EX_O2 <= 0.0     0 <= EX_O2_reverse_23804 <= 1000.0  \n",
       "EX_X          0 <= EX_X <= 0.0      0 <= EX_X_reverse_ff29b <= 1000.0  "
      ]
     },
     "execution_count": 3,
     "metadata": {},
     "output_type": "execute_result"
    }
   ],
   "source": [
    "# objective function & boundaries\n",
    "# pprint(mfba.objective)\n",
    "fbc.cobra_reaction_info(mfba)"
   ]
  },
  {
   "cell_type": "code",
   "execution_count": 11,
   "metadata": {
    "collapsed": false
   },
   "outputs": [
    {
     "name": "stdout",
     "output_type": "stream",
     "text": [
      "Ac <=> \n",
      "PRODUCING REACTIONS -- acetate (Ac)\n",
      "-----------------------------------\n",
      "%    FLUX    RXN ID    REACTION\n",
      "---  ------  --------  ----------\n",
      "\n",
      "\n",
      "CONSUMING REACTIONS -- acetate (Ac)\n",
      "-----------------------------------\n",
      "%    FLUX    RXN ID    REACTION\n",
      "---  ------  --------  ----------\n",
      "\n",
      "None\n",
      "optimal\n",
      "IN FLUXES    OUT FLUXES    OBJECTIVES\n",
      "-----------  ------------  ------------\n",
      "                           v1  0\n",
      "                           v2  0\n",
      "                           v3  0\n",
      "                           v4  0\n"
     ]
    }
   ],
   "source": [
    "# lookat the v4 property\n",
    "print(mfba.reactions.EX_Ac.reaction)\n",
    "print(mfba.metabolites.Ac.summary())\n",
    "# simulate\n",
    "# s = mfba.optimize()\n",
    "s = mfba.optimize(objective_sense=\"maximize\")\n",
    "print(s.status)\n",
    "mfba.summary()"
   ]
  },
  {
   "cell_type": "code",
   "execution_count": 5,
   "metadata": {
    "collapsed": false
   },
   "outputs": [
    {
     "ename": "ValueError",
     "evalue": "Cannot set a frame with no defined index and a value that cannot be converted to a Series",
     "output_type": "error",
     "traceback": [
      "\u001b[0;31m---------------------------------------------------------------------------\u001b[0m",
      "\u001b[0;31mValueError\u001b[0m                                Traceback (most recent call last)",
      "\u001b[0;32m<ipython-input-5-5db338b1caaa>\u001b[0m in \u001b[0;36m<module>\u001b[0;34m()\u001b[0m\n\u001b[1;32m      1\u001b[0m \u001b[0;31m# summary of solution\u001b[0m\u001b[0;34m\u001b[0m\u001b[0;34m\u001b[0m\u001b[0m\n\u001b[0;32m----> 2\u001b[0;31m \u001b[0mmfba\u001b[0m\u001b[0;34m.\u001b[0m\u001b[0msummary\u001b[0m\u001b[0;34m(\u001b[0m\u001b[0mfva\u001b[0m\u001b[0;34m=\u001b[0m\u001b[0mTrue\u001b[0m\u001b[0;34m)\u001b[0m\u001b[0;34m\u001b[0m\u001b[0m\n\u001b[0m",
      "\u001b[0;32m/home/mkoenig/git/cobrapy/cobra/core/model.pyc\u001b[0m in \u001b[0;36msummary\u001b[0;34m(self, threshold, fva, floatfmt, **kwargs)\u001b[0m\n\u001b[1;32m    846\u001b[0m         \u001b[0;32mfrom\u001b[0m \u001b[0mcobra\u001b[0m\u001b[0;34m.\u001b[0m\u001b[0mflux_analysis\u001b[0m\u001b[0;34m.\u001b[0m\u001b[0msummary\u001b[0m \u001b[0;32mimport\u001b[0m \u001b[0mmodel_summary\u001b[0m\u001b[0;34m\u001b[0m\u001b[0m\n\u001b[1;32m    847\u001b[0m         return model_summary(self, threshold=threshold, fva=fva,\n\u001b[0;32m--> 848\u001b[0;31m                              floatfmt=floatfmt, **kwargs)\n\u001b[0m\u001b[1;32m    849\u001b[0m \u001b[0;34m\u001b[0m\u001b[0m\n\u001b[1;32m    850\u001b[0m     \u001b[0;32mdef\u001b[0m \u001b[0m__enter__\u001b[0m\u001b[0;34m(\u001b[0m\u001b[0mself\u001b[0m\u001b[0;34m)\u001b[0m\u001b[0;34m:\u001b[0m\u001b[0;34m\u001b[0m\u001b[0m\n",
      "\u001b[0;32m/home/mkoenig/git/cobrapy/cobra/flux_analysis/summary.pyc\u001b[0m in \u001b[0;36mmodel_summary\u001b[0;34m(model, threshold, fva, floatfmt, **solver_args)\u001b[0m\n\u001b[1;32m    165\u001b[0m     \u001b[0mmetabolite_fluxes\u001b[0m \u001b[0;34m=\u001b[0m \u001b[0mpd\u001b[0m\u001b[0;34m.\u001b[0m\u001b[0mDataFrame\u001b[0m\u001b[0;34m(\u001b[0m\u001b[0mmetabolite_fluxes\u001b[0m\u001b[0;34m)\u001b[0m\u001b[0;34m.\u001b[0m\u001b[0mT\u001b[0m\u001b[0;34m\u001b[0m\u001b[0m\n\u001b[1;32m    166\u001b[0m     metabolite_fluxes = _process_flux_dataframe(\n\u001b[0;32m--> 167\u001b[0;31m         metabolite_fluxes, fva, threshold, floatfmt)\n\u001b[0m\u001b[1;32m    168\u001b[0m \u001b[0;34m\u001b[0m\u001b[0m\n\u001b[1;32m    169\u001b[0m     \u001b[0;31m# Begin building string output table\u001b[0m\u001b[0;34m\u001b[0m\u001b[0;34m\u001b[0m\u001b[0m\n",
      "\u001b[0;32m/home/mkoenig/git/cobrapy/cobra/flux_analysis/summary.pyc\u001b[0m in \u001b[0;36m_process_flux_dataframe\u001b[0;34m(flux_dataframe, fva, threshold, floatfmt)\u001b[0m\n\u001b[1;32m    233\u001b[0m             lambda x: get_direction(x.flux, x.fmin, x.fmax), 1)\n\u001b[1;32m    234\u001b[0m \u001b[0;34m\u001b[0m\u001b[0m\n\u001b[0;32m--> 235\u001b[0;31m         \u001b[0mflux_dataframe\u001b[0m\u001b[0;34m[\u001b[0m\u001b[0;34m'is_input'\u001b[0m\u001b[0;34m]\u001b[0m \u001b[0;34m=\u001b[0m \u001b[0msign\u001b[0m \u001b[0;34m==\u001b[0m \u001b[0;36m1\u001b[0m\u001b[0;34m\u001b[0m\u001b[0m\n\u001b[0m\u001b[1;32m    236\u001b[0m \u001b[0;34m\u001b[0m\u001b[0m\n\u001b[1;32m    237\u001b[0m         \u001b[0mflux_dataframe\u001b[0m\u001b[0;34m.\u001b[0m\u001b[0mloc\u001b[0m\u001b[0;34m[\u001b[0m\u001b[0;34m:\u001b[0m\u001b[0;34m,\u001b[0m \u001b[0;34m[\u001b[0m\u001b[0;34m'flux'\u001b[0m\u001b[0;34m,\u001b[0m \u001b[0;34m'fmin'\u001b[0m\u001b[0;34m,\u001b[0m \u001b[0;34m'fmax'\u001b[0m\u001b[0;34m]\u001b[0m\u001b[0;34m]\u001b[0m \u001b[0;34m=\u001b[0m\u001b[0;31m \u001b[0m\u001b[0;31m\\\u001b[0m\u001b[0;34m\u001b[0m\u001b[0m\n",
      "\u001b[0;32m/usr/local/lib/python2.7/dist-packages/pandas/core/frame.pyc\u001b[0m in \u001b[0;36m__setitem__\u001b[0;34m(self, key, value)\u001b[0m\n\u001b[1;32m   2415\u001b[0m         \u001b[0;32melse\u001b[0m\u001b[0;34m:\u001b[0m\u001b[0;34m\u001b[0m\u001b[0m\n\u001b[1;32m   2416\u001b[0m             \u001b[0;31m# set column\u001b[0m\u001b[0;34m\u001b[0m\u001b[0;34m\u001b[0m\u001b[0m\n\u001b[0;32m-> 2417\u001b[0;31m             \u001b[0mself\u001b[0m\u001b[0;34m.\u001b[0m\u001b[0m_set_item\u001b[0m\u001b[0;34m(\u001b[0m\u001b[0mkey\u001b[0m\u001b[0;34m,\u001b[0m \u001b[0mvalue\u001b[0m\u001b[0;34m)\u001b[0m\u001b[0;34m\u001b[0m\u001b[0m\n\u001b[0m\u001b[1;32m   2418\u001b[0m \u001b[0;34m\u001b[0m\u001b[0m\n\u001b[1;32m   2419\u001b[0m     \u001b[0;32mdef\u001b[0m \u001b[0m_setitem_slice\u001b[0m\u001b[0;34m(\u001b[0m\u001b[0mself\u001b[0m\u001b[0;34m,\u001b[0m \u001b[0mkey\u001b[0m\u001b[0;34m,\u001b[0m \u001b[0mvalue\u001b[0m\u001b[0;34m)\u001b[0m\u001b[0;34m:\u001b[0m\u001b[0;34m\u001b[0m\u001b[0m\n",
      "\u001b[0;32m/usr/local/lib/python2.7/dist-packages/pandas/core/frame.pyc\u001b[0m in \u001b[0;36m_set_item\u001b[0;34m(self, key, value)\u001b[0m\n\u001b[1;32m   2480\u001b[0m         \"\"\"\n\u001b[1;32m   2481\u001b[0m \u001b[0;34m\u001b[0m\u001b[0m\n\u001b[0;32m-> 2482\u001b[0;31m         \u001b[0mself\u001b[0m\u001b[0;34m.\u001b[0m\u001b[0m_ensure_valid_index\u001b[0m\u001b[0;34m(\u001b[0m\u001b[0mvalue\u001b[0m\u001b[0;34m)\u001b[0m\u001b[0;34m\u001b[0m\u001b[0m\n\u001b[0m\u001b[1;32m   2483\u001b[0m         \u001b[0mvalue\u001b[0m \u001b[0;34m=\u001b[0m \u001b[0mself\u001b[0m\u001b[0;34m.\u001b[0m\u001b[0m_sanitize_column\u001b[0m\u001b[0;34m(\u001b[0m\u001b[0mkey\u001b[0m\u001b[0;34m,\u001b[0m \u001b[0mvalue\u001b[0m\u001b[0;34m)\u001b[0m\u001b[0;34m\u001b[0m\u001b[0m\n\u001b[1;32m   2484\u001b[0m         \u001b[0mNDFrame\u001b[0m\u001b[0;34m.\u001b[0m\u001b[0m_set_item\u001b[0m\u001b[0;34m(\u001b[0m\u001b[0mself\u001b[0m\u001b[0;34m,\u001b[0m \u001b[0mkey\u001b[0m\u001b[0;34m,\u001b[0m \u001b[0mvalue\u001b[0m\u001b[0;34m)\u001b[0m\u001b[0;34m\u001b[0m\u001b[0m\n",
      "\u001b[0;32m/usr/local/lib/python2.7/dist-packages/pandas/core/frame.pyc\u001b[0m in \u001b[0;36m_ensure_valid_index\u001b[0;34m(self, value)\u001b[0m\n\u001b[1;32m   2462\u001b[0m                 \u001b[0mvalue\u001b[0m \u001b[0;34m=\u001b[0m \u001b[0mSeries\u001b[0m\u001b[0;34m(\u001b[0m\u001b[0mvalue\u001b[0m\u001b[0;34m)\u001b[0m\u001b[0;34m\u001b[0m\u001b[0m\n\u001b[1;32m   2463\u001b[0m             \u001b[0;32mexcept\u001b[0m\u001b[0;34m:\u001b[0m\u001b[0;34m\u001b[0m\u001b[0m\n\u001b[0;32m-> 2464\u001b[0;31m                 raise ValueError('Cannot set a frame with no defined index '\n\u001b[0m\u001b[1;32m   2465\u001b[0m                                  \u001b[0;34m'and a value that cannot be converted to a '\u001b[0m\u001b[0;34m\u001b[0m\u001b[0m\n\u001b[1;32m   2466\u001b[0m                                  'Series')\n",
      "\u001b[0;31mValueError\u001b[0m: Cannot set a frame with no defined index and a value that cannot be converted to a Series"
     ]
    }
   ],
   "source": [
    "# summary of solution\n",
    "mfba.summary(fva=True)"
   ]
  },
  {
   "cell_type": "code",
   "execution_count": null,
   "metadata": {
    "collapsed": false
   },
   "outputs": [],
   "source": [
    "# FVA\n",
    "# running flux variability analysis with the model\n",
    "fva_result = cobra.flux_analysis.flux_variability_analysis(mfba, mfba.reactions)\n",
    "pd.DataFrame.from_dict(fva_result).T.round(5)"
   ]
  },
  {
   "cell_type": "markdown",
   "metadata": {
    "collapsed": true
   },
   "source": [
    "## Change the bounds"
   ]
  },
  {
   "cell_type": "code",
   "execution_count": null,
   "metadata": {
    "collapsed": false
   },
   "outputs": [],
   "source": [
    "import numpy as np\n",
    "import pandas as pd\n",
    "glc_bounds = np.linspace(-1000, 0, 20)\n",
    "results = []\n",
    "for lb_glc in glc_bounds:\n",
    "    mfba.reactions.EX_Glcxt.lower_bound = lb_glc\n",
    "    s = mfba.optimize(objective_sense=\"maximize\")\n",
    "    fluxes = s.fluxes\n",
    "    results.append(fluxes)\n",
    "df = pd.DataFrame(results)\n",
    "print(df)"
   ]
  },
  {
   "cell_type": "code",
   "execution_count": null,
   "metadata": {
    "collapsed": false
   },
   "outputs": [],
   "source": [
    "fig, (ax1, ax2) = plt.subplots(nrows=1, ncols=2, figsize=(14, 7))\n",
    "\n",
    "for vid in ['v1', 'v2', 'v3', 'v4']:\n",
    "    ax1.plot(df.EX_Glcxt, df[vid], marker='s', alpha=0.8, label=vid)\n",
    "\n",
    "ax2.plot([np.min(glc_bounds), np.max(glc_bounds)], [0, 0], color='k', linestyle='-', linewidth=1)\n",
    "for vid in ['EX_Ac', 'EX_O2', 'EX_Glcxt', 'EX_X']:\n",
    "    ax2.plot(df.EX_Glcxt, df[vid], marker='s', alpha=0.8, label=vid)\n",
    "ax2.set_ylim(-1000, 1000)\n",
    "    \n",
    "for ax in [ax1, ax2]:\n",
    "    ax.set_xlabel('Glc species bound')\n",
    "    ax.legend()\n",
    "\n",
    "plt.show()"
   ]
  },
  {
   "cell_type": "code",
   "execution_count": null,
   "metadata": {
    "collapsed": true
   },
   "outputs": [],
   "source": []
  }
 ],
 "metadata": {
  "kernelspec": {
   "display_name": "Python 2",
   "language": "python",
   "name": "python2"
  },
  "language_info": {
   "codemirror_mode": {
    "name": "ipython",
    "version": 2
   },
   "file_extension": ".py",
   "mimetype": "text/x-python",
   "name": "python",
   "nbconvert_exporter": "python",
   "pygments_lexer": "ipython2",
   "version": "2.7.12"
  }
 },
 "nbformat": 4,
 "nbformat_minor": 0
}
