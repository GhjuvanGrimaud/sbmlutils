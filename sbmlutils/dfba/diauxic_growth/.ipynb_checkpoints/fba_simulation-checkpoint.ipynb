{
 "cells": [
  {
   "cell_type": "markdown",
   "metadata": {},
   "source": [
    "## FBA simulation\n",
    "Simulating the FBA part of the model with `cobrapy` to check that the FBA part is working."
   ]
  },
  {
   "cell_type": "code",
   "execution_count": 1,
   "metadata": {
    "collapsed": false
   },
   "outputs": [],
   "source": [
    "from __future__ import print_function, division\n",
    "import pandas as pd\n",
    "import cobra\n",
    "from sbmlutils import fbc\n",
    "from pprint import pprint"
   ]
  },
  {
   "cell_type": "code",
   "execution_count": 2,
   "metadata": {
    "collapsed": false
   },
   "outputs": [
    {
     "name": "stderr",
     "output_type": "stream",
     "text": [
      "cobra/io/sbml3.py:249 \u001b[1;31mUserWarning\u001b[0m: loading SBML model without fbc:strict=\"true\"\n"
     ]
    },
    {
     "data": {
      "text/plain": [
       "(<Model diauxic_fba at 0x7f2530988150>,\n",
       " {'SBML errors': [], 'other': [], 'validator': [], 'warnings': []})"
      ]
     },
     "execution_count": 2,
     "metadata": {},
     "output_type": "execute_result"
    }
   ],
   "source": [
    "# load model\n",
    "from sbmlutils.dfba.diauxic_growth.model_factory import version\n",
    "source = './results/v{}/diauxic_fba.xml'.format(version)\n",
    "mfba = cobra.io.read_sbml_model(source)\n",
    "cobra.io.sbml3.validate_sbml_model(source)"
   ]
  },
  {
   "cell_type": "code",
   "execution_count": 3,
   "metadata": {
    "collapsed": false
   },
   "outputs": [
    {
     "data": {
      "text/html": [
       "<div>\n",
       "<table border=\"1\" class=\"dataframe\">\n",
       "  <thead>\n",
       "    <tr style=\"text-align: right;\">\n",
       "      <th></th>\n",
       "      <th>lb</th>\n",
       "      <th>ub</th>\n",
       "      <th>reversibility</th>\n",
       "      <th>objective</th>\n",
       "    </tr>\n",
       "  </thead>\n",
       "  <tbody>\n",
       "    <tr>\n",
       "      <th>EX_O2</th>\n",
       "      <td>-1000</td>\n",
       "      <td>1000</td>\n",
       "      <td>True</td>\n",
       "      <td>NaN</td>\n",
       "    </tr>\n",
       "    <tr>\n",
       "      <th>EX_Glcxt</th>\n",
       "      <td>-1000</td>\n",
       "      <td>1000</td>\n",
       "      <td>True</td>\n",
       "      <td>NaN</td>\n",
       "    </tr>\n",
       "    <tr>\n",
       "      <th>EX_Ac</th>\n",
       "      <td>-1000</td>\n",
       "      <td>1000</td>\n",
       "      <td>True</td>\n",
       "      <td>NaN</td>\n",
       "    </tr>\n",
       "    <tr>\n",
       "      <th>EX_X</th>\n",
       "      <td>-1000</td>\n",
       "      <td>1000</td>\n",
       "      <td>True</td>\n",
       "      <td>NaN</td>\n",
       "    </tr>\n",
       "    <tr>\n",
       "      <th>vO2</th>\n",
       "      <td>0</td>\n",
       "      <td>15</td>\n",
       "      <td>False</td>\n",
       "      <td>NaN</td>\n",
       "    </tr>\n",
       "    <tr>\n",
       "      <th>vGlcxt</th>\n",
       "      <td>0</td>\n",
       "      <td>10</td>\n",
       "      <td>False</td>\n",
       "      <td>NaN</td>\n",
       "    </tr>\n",
       "    <tr>\n",
       "      <th>v1</th>\n",
       "      <td>0</td>\n",
       "      <td>1000</td>\n",
       "      <td>False</td>\n",
       "      <td>1</td>\n",
       "    </tr>\n",
       "    <tr>\n",
       "      <th>v2</th>\n",
       "      <td>0</td>\n",
       "      <td>1000</td>\n",
       "      <td>False</td>\n",
       "      <td>1</td>\n",
       "    </tr>\n",
       "    <tr>\n",
       "      <th>v3</th>\n",
       "      <td>0</td>\n",
       "      <td>1000</td>\n",
       "      <td>False</td>\n",
       "      <td>1</td>\n",
       "    </tr>\n",
       "    <tr>\n",
       "      <th>v4</th>\n",
       "      <td>0</td>\n",
       "      <td>1000</td>\n",
       "      <td>False</td>\n",
       "      <td>1</td>\n",
       "    </tr>\n",
       "  </tbody>\n",
       "</table>\n",
       "</div>"
      ],
      "text/plain": [
       "            lb    ub reversibility objective\n",
       "EX_O2    -1000  1000          True       NaN\n",
       "EX_Glcxt -1000  1000          True       NaN\n",
       "EX_Ac    -1000  1000          True       NaN\n",
       "EX_X     -1000  1000          True       NaN\n",
       "vO2          0    15         False       NaN\n",
       "vGlcxt       0    10         False       NaN\n",
       "v1           0  1000         False         1\n",
       "v2           0  1000         False         1\n",
       "v3           0  1000         False         1\n",
       "v4           0  1000         False         1"
      ]
     },
     "execution_count": 3,
     "metadata": {},
     "output_type": "execute_result"
    }
   ],
   "source": [
    "# objective function & boundaries\n",
    "# pprint(mfba.objective)\n",
    "fbc.cobra_reaction_info(mfba)"
   ]
  },
  {
   "cell_type": "code",
   "execution_count": 4,
   "metadata": {
    "collapsed": false
   },
   "outputs": [
    {
     "name": "stdout",
     "output_type": "stream",
     "text": [
      "<Solution 92.44 at 0x7f2530e9bc50>\n",
      "optimal\n"
     ]
    }
   ],
   "source": [
    "# simulate\n",
    "# s = mfba.optimize()\n",
    "s = mfba.optimize(objective_sense=\"maximize\")\n",
    "\n",
    "print(s)\n",
    "print(mfba.solution.status)"
   ]
  },
  {
   "cell_type": "code",
   "execution_count": 7,
   "metadata": {
    "collapsed": false
   },
   "outputs": [
    {
     "name": "stdout",
     "output_type": "stream",
     "text": [
      "IN FLUXES    OUT FLUXES    OBJECTIVES\n",
      "-----------  ------------  ------------\n",
      "O2     15    Ac  168       v1   0\n",
      "Glcxt  10    X    92.4     v2  78.6\n",
      "                           v3   0\n",
      "                           v4  13.9\n"
     ]
    }
   ],
   "source": [
    "# summary of solution\n",
    "mfba.summary()"
   ]
  },
  {
   "cell_type": "code",
   "execution_count": 8,
   "metadata": {
    "collapsed": false
   },
   "outputs": [
    {
     "data": {
      "text/html": [
       "<div>\n",
       "<table border=\"1\" class=\"dataframe\">\n",
       "  <thead>\n",
       "    <tr style=\"text-align: right;\">\n",
       "      <th></th>\n",
       "      <th>maximum</th>\n",
       "      <th>minimum</th>\n",
       "    </tr>\n",
       "  </thead>\n",
       "  <tbody>\n",
       "    <tr>\n",
       "      <th>EX_Ac</th>\n",
       "      <td>168.16666</td>\n",
       "      <td>168.16666</td>\n",
       "    </tr>\n",
       "    <tr>\n",
       "      <th>EX_Glcxt</th>\n",
       "      <td>-1000.00000</td>\n",
       "      <td>-1000.00000</td>\n",
       "    </tr>\n",
       "    <tr>\n",
       "      <th>EX_O2</th>\n",
       "      <td>-1000.00000</td>\n",
       "      <td>-1000.00000</td>\n",
       "    </tr>\n",
       "    <tr>\n",
       "      <th>EX_X</th>\n",
       "      <td>92.43551</td>\n",
       "      <td>92.43551</td>\n",
       "    </tr>\n",
       "    <tr>\n",
       "      <th>v1</th>\n",
       "      <td>0.00000</td>\n",
       "      <td>0.00000</td>\n",
       "    </tr>\n",
       "    <tr>\n",
       "      <th>v2</th>\n",
       "      <td>78.56037</td>\n",
       "      <td>78.56037</td>\n",
       "    </tr>\n",
       "    <tr>\n",
       "      <th>v3</th>\n",
       "      <td>0.00000</td>\n",
       "      <td>0.00000</td>\n",
       "    </tr>\n",
       "    <tr>\n",
       "      <th>v4</th>\n",
       "      <td>13.87514</td>\n",
       "      <td>13.87514</td>\n",
       "    </tr>\n",
       "    <tr>\n",
       "      <th>vGlcxt</th>\n",
       "      <td>10.00000</td>\n",
       "      <td>10.00000</td>\n",
       "    </tr>\n",
       "    <tr>\n",
       "      <th>vO2</th>\n",
       "      <td>15.00000</td>\n",
       "      <td>15.00000</td>\n",
       "    </tr>\n",
       "  </tbody>\n",
       "</table>\n",
       "</div>"
      ],
      "text/plain": [
       "             maximum     minimum\n",
       "EX_Ac      168.16666   168.16666\n",
       "EX_Glcxt -1000.00000 -1000.00000\n",
       "EX_O2    -1000.00000 -1000.00000\n",
       "EX_X        92.43551    92.43551\n",
       "v1           0.00000     0.00000\n",
       "v2          78.56037    78.56037\n",
       "v3           0.00000     0.00000\n",
       "v4          13.87514    13.87514\n",
       "vGlcxt      10.00000    10.00000\n",
       "vO2         15.00000    15.00000"
      ]
     },
     "execution_count": 8,
     "metadata": {},
     "output_type": "execute_result"
    }
   ],
   "source": [
    "# FVA\n",
    "# running flux variability analysis with the model\n",
    "fva_result = cobra.flux_analysis.flux_variability_analysis(mfba, mfba.reactions)\n",
    "pd.DataFrame.from_dict(fva_result).T.round(5)"
   ]
  },
  {
   "cell_type": "code",
   "execution_count": null,
   "metadata": {
    "collapsed": true
   },
   "outputs": [],
   "source": []
  },
  {
   "cell_type": "code",
   "execution_count": null,
   "metadata": {
    "collapsed": true
   },
   "outputs": [],
   "source": []
  }
 ],
 "metadata": {
  "kernelspec": {
   "display_name": "Python 2",
   "language": "python",
   "name": "python2"
  },
  "language_info": {
   "codemirror_mode": {
    "name": "ipython",
    "version": 2
   },
   "file_extension": ".py",
   "mimetype": "text/x-python",
   "name": "python",
   "nbconvert_exporter": "python",
   "pygments_lexer": "ipython2",
   "version": "2.7.6"
  }
 },
 "nbformat": 4,
 "nbformat_minor": 0
}
