{
 "cells": [
  {
   "cell_type": "markdown",
   "metadata": {},
   "source": [
    "## FBA simulation\n",
    "Simulating the FBA part of the model with `cobrapy` to check that the FBA part is working."
   ]
  },
  {
   "cell_type": "code",
   "execution_count": 1,
   "metadata": {
    "collapsed": true
   },
   "outputs": [],
   "source": [
    "from __future__ import print_function, division\n",
    "import pandas as pd\n",
    "import cobra\n",
    "from sbmlutils import fbc\n",
    "from pprint import pprint"
   ]
  },
  {
   "cell_type": "code",
   "execution_count": 2,
   "metadata": {
    "collapsed": false
   },
   "outputs": [
    {
     "name": "stderr",
     "output_type": "stream",
     "text": [
      "cobra/io/sbml3.py:249 \u001b[1;31mUserWarning\u001b[0m: loading SBML model without fbc:strict=\"true\"\n"
     ]
    },
    {
     "data": {
      "text/plain": [
       "(<Model diauxic_fba at 0x7f44aa400190>,\n",
       " {'SBML errors': [], 'other': [], 'validator': [], 'warnings': []})"
      ]
     },
     "execution_count": 2,
     "metadata": {},
     "output_type": "execute_result"
    }
   ],
   "source": [
    "# load model\n",
    "source = './results/diauxic_fba.xml'\n",
    "mfba = cobra.io.read_sbml_model(source)\n",
    "cobra.io.sbml3.validate_sbml_model(source)"
   ]
  },
  {
   "cell_type": "code",
   "execution_count": 3,
   "metadata": {
    "collapsed": false
   },
   "outputs": [
    {
     "name": "stdout",
     "output_type": "stream",
     "text": [
      "{<Reaction v1 at 0x7f44aa3eee90>: 1.0,\n",
      " <Reaction v2 at 0x7f44aa3eeed0>: 1.0,\n",
      " <Reaction v3 at 0x7f44aa3eef10>: 1.0,\n",
      " <Reaction v4 at 0x7f44aa3eef50>: 1.0}\n"
     ]
    },
    {
     "data": {
      "text/html": [
       "<div>\n",
       "<table border=\"1\" class=\"dataframe\">\n",
       "  <thead>\n",
       "    <tr style=\"text-align: right;\">\n",
       "      <th></th>\n",
       "      <th>lb</th>\n",
       "      <th>ub</th>\n",
       "      <th>objective</th>\n",
       "    </tr>\n",
       "  </thead>\n",
       "  <tbody>\n",
       "    <tr>\n",
       "      <th>vO2</th>\n",
       "      <td>0</td>\n",
       "      <td>15</td>\n",
       "      <td>NaN</td>\n",
       "    </tr>\n",
       "    <tr>\n",
       "      <th>vGlcxt</th>\n",
       "      <td>0</td>\n",
       "      <td>10</td>\n",
       "      <td>NaN</td>\n",
       "    </tr>\n",
       "    <tr>\n",
       "      <th>vAc</th>\n",
       "      <td>-1000</td>\n",
       "      <td>1000</td>\n",
       "      <td>NaN</td>\n",
       "    </tr>\n",
       "    <tr>\n",
       "      <th>vX</th>\n",
       "      <td>0</td>\n",
       "      <td>1000</td>\n",
       "      <td>NaN</td>\n",
       "    </tr>\n",
       "    <tr>\n",
       "      <th>v1</th>\n",
       "      <td>0</td>\n",
       "      <td>1000</td>\n",
       "      <td>1</td>\n",
       "    </tr>\n",
       "    <tr>\n",
       "      <th>v2</th>\n",
       "      <td>0</td>\n",
       "      <td>1000</td>\n",
       "      <td>1</td>\n",
       "    </tr>\n",
       "    <tr>\n",
       "      <th>v3</th>\n",
       "      <td>0</td>\n",
       "      <td>1000</td>\n",
       "      <td>1</td>\n",
       "    </tr>\n",
       "    <tr>\n",
       "      <th>v4</th>\n",
       "      <td>0</td>\n",
       "      <td>1000</td>\n",
       "      <td>1</td>\n",
       "    </tr>\n",
       "  </tbody>\n",
       "</table>\n",
       "</div>"
      ],
      "text/plain": [
       "          lb    ub objective\n",
       "vO2        0    15       NaN\n",
       "vGlcxt     0    10       NaN\n",
       "vAc    -1000  1000       NaN\n",
       "vX         0  1000       NaN\n",
       "v1         0  1000         1\n",
       "v2         0  1000         1\n",
       "v3         0  1000         1\n",
       "v4         0  1000         1"
      ]
     },
     "execution_count": 3,
     "metadata": {},
     "output_type": "execute_result"
    }
   ],
   "source": [
    "# objective function & boundaries\n",
    "pprint(mfba.objective)\n",
    "fbc.cobra_reaction_info(mfba)"
   ]
  },
  {
   "cell_type": "code",
   "execution_count": 4,
   "metadata": {
    "collapsed": false
   },
   "outputs": [
    {
     "name": "stdout",
     "output_type": "stream",
     "text": [
      "<Solution 1.10 at 0x7f44aa400d90>\n",
      "optimal\n"
     ]
    }
   ],
   "source": [
    "# simulate\n",
    "# s = mfba.optimize()\n",
    "s = mfba.optimize(objective_sense=\"maximize\")\n",
    "\n",
    "print(s)\n",
    "print(mfba.solution.status)"
   ]
  },
  {
   "cell_type": "code",
   "execution_count": 5,
   "metadata": {
    "collapsed": false
   },
   "outputs": [
    {
     "name": "stdout",
     "output_type": "stream",
     "text": [
      "IN FLUXES     OUT FLUXES    OBJECTIVES\n",
      "------------  ------------  ------------\n",
      "O2     15     X  1.1        v1  0.0384\n",
      "Glcxt  10                   v2  1.06\n",
      "Ac      1.51                v3  0\n",
      "                            v4  0\n"
     ]
    }
   ],
   "source": [
    "# summary of solution\n",
    "mfba.summary()"
   ]
  },
  {
   "cell_type": "code",
   "execution_count": 6,
   "metadata": {
    "collapsed": false
   },
   "outputs": [
    {
     "data": {
      "text/html": [
       "<div>\n",
       "<table border=\"1\" class=\"dataframe\">\n",
       "  <thead>\n",
       "    <tr style=\"text-align: right;\">\n",
       "      <th></th>\n",
       "      <th>maximum</th>\n",
       "      <th>minimum</th>\n",
       "    </tr>\n",
       "  </thead>\n",
       "  <tbody>\n",
       "    <tr>\n",
       "      <th>v1</th>\n",
       "      <td>0.03836</td>\n",
       "      <td>0.03836</td>\n",
       "    </tr>\n",
       "    <tr>\n",
       "      <th>v2</th>\n",
       "      <td>1.05708</td>\n",
       "      <td>1.05708</td>\n",
       "    </tr>\n",
       "    <tr>\n",
       "      <th>v3</th>\n",
       "      <td>0.00000</td>\n",
       "      <td>0.00000</td>\n",
       "    </tr>\n",
       "    <tr>\n",
       "      <th>v4</th>\n",
       "      <td>0.00000</td>\n",
       "      <td>0.00000</td>\n",
       "    </tr>\n",
       "    <tr>\n",
       "      <th>vAc</th>\n",
       "      <td>1.51242</td>\n",
       "      <td>1.51242</td>\n",
       "    </tr>\n",
       "    <tr>\n",
       "      <th>vGlcxt</th>\n",
       "      <td>10.00000</td>\n",
       "      <td>10.00000</td>\n",
       "    </tr>\n",
       "    <tr>\n",
       "      <th>vO2</th>\n",
       "      <td>15.00000</td>\n",
       "      <td>15.00000</td>\n",
       "    </tr>\n",
       "    <tr>\n",
       "      <th>vX</th>\n",
       "      <td>1.09544</td>\n",
       "      <td>1.09544</td>\n",
       "    </tr>\n",
       "  </tbody>\n",
       "</table>\n",
       "</div>"
      ],
      "text/plain": [
       "         maximum   minimum\n",
       "v1       0.03836   0.03836\n",
       "v2       1.05708   1.05708\n",
       "v3       0.00000   0.00000\n",
       "v4       0.00000   0.00000\n",
       "vAc      1.51242   1.51242\n",
       "vGlcxt  10.00000  10.00000\n",
       "vO2     15.00000  15.00000\n",
       "vX       1.09544   1.09544"
      ]
     },
     "execution_count": 6,
     "metadata": {},
     "output_type": "execute_result"
    }
   ],
   "source": [
    "# FVA\n",
    "# running flux variability analysis with the model\n",
    "fva_result = cobra.flux_analysis.flux_variability_analysis(mfba, mfba.reactions)\n",
    "pd.DataFrame.from_dict(fva_result).T.round(5)"
   ]
  },
  {
   "cell_type": "code",
   "execution_count": 7,
   "metadata": {
    "collapsed": true
   },
   "outputs": [],
   "source": [
    "from cobra.test import test_all"
   ]
  }
 ],
 "metadata": {
  "kernelspec": {
   "display_name": "Python 2",
   "language": "python",
   "name": "python2"
  },
  "language_info": {
   "codemirror_mode": {
    "name": "ipython",
    "version": 2
   },
   "file_extension": ".py",
   "mimetype": "text/x-python",
   "name": "python",
   "nbconvert_exporter": "python",
   "pygments_lexer": "ipython2",
   "version": "2.7.12"
  }
 },
 "nbformat": 4,
 "nbformat_minor": 0
}
