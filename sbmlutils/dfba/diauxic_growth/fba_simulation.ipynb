{
 "cells": [
  {
   "cell_type": "markdown",
   "metadata": {},
   "source": [
    "## FBA simulation\n",
    "Simulating the FBA part of the model with `cobrapy` to check that the FBA part is working."
   ]
  },
  {
   "cell_type": "code",
   "execution_count": 4,
   "metadata": {
    "collapsed": true
   },
   "outputs": [],
   "source": [
    "from __future__ import print_function, division\n",
    "import pandas as pd\n",
    "import cobra\n",
    "from sbmlutils import fbc\n",
    "from pprint import pprint"
   ]
  },
  {
   "cell_type": "code",
   "execution_count": 7,
   "metadata": {
    "collapsed": false
   },
   "outputs": [
    {
     "data": {
      "text/plain": [
       "(<Model diauxic_fba at 0x7f68c89f7950>,\n",
       " {'SBML errors': [], 'other': [], 'validator': [], 'warnings': []})"
      ]
     },
     "execution_count": 7,
     "metadata": {},
     "output_type": "execute_result"
    }
   ],
   "source": [
    "# load model\n",
    "source = './results/diauxic_fba.xml'\n",
    "mfba = cobra.io.read_sbml_model(source)\n",
    "cobra.io.sbml3.validate_sbml_model(source)"
   ]
  },
  {
   "cell_type": "code",
   "execution_count": 8,
   "metadata": {
    "collapsed": false
   },
   "outputs": [
    {
     "name": "stdout",
     "output_type": "stream",
     "text": [
      "{<Reaction v1 at 0x7f68c89f7810>: 1.0,\n",
      " <Reaction v2 at 0x7f68c89f7850>: 1.0,\n",
      " <Reaction v3 at 0x7f68c89f7890>: 1.0,\n",
      " <Reaction v4 at 0x7f68c89f78d0>: 1.0}\n"
     ]
    },
    {
     "data": {
      "text/html": [
       "<div>\n",
       "<table border=\"1\" class=\"dataframe\">\n",
       "  <thead>\n",
       "    <tr style=\"text-align: right;\">\n",
       "      <th></th>\n",
       "      <th>lb</th>\n",
       "      <th>ub</th>\n",
       "      <th>objective</th>\n",
       "    </tr>\n",
       "  </thead>\n",
       "  <tbody>\n",
       "    <tr>\n",
       "      <th>vO2</th>\n",
       "      <td>-1000</td>\n",
       "      <td>1000</td>\n",
       "      <td>NaN</td>\n",
       "    </tr>\n",
       "    <tr>\n",
       "      <th>vGlcxt</th>\n",
       "      <td>-1000</td>\n",
       "      <td>1000</td>\n",
       "      <td>NaN</td>\n",
       "    </tr>\n",
       "    <tr>\n",
       "      <th>vAc</th>\n",
       "      <td>-1000</td>\n",
       "      <td>1000</td>\n",
       "      <td>NaN</td>\n",
       "    </tr>\n",
       "    <tr>\n",
       "      <th>vX</th>\n",
       "      <td>0</td>\n",
       "      <td>1000</td>\n",
       "      <td>NaN</td>\n",
       "    </tr>\n",
       "    <tr>\n",
       "      <th>v1</th>\n",
       "      <td>0</td>\n",
       "      <td>1000</td>\n",
       "      <td>1</td>\n",
       "    </tr>\n",
       "    <tr>\n",
       "      <th>v2</th>\n",
       "      <td>0</td>\n",
       "      <td>1000</td>\n",
       "      <td>1</td>\n",
       "    </tr>\n",
       "    <tr>\n",
       "      <th>v3</th>\n",
       "      <td>0</td>\n",
       "      <td>1000</td>\n",
       "      <td>1</td>\n",
       "    </tr>\n",
       "    <tr>\n",
       "      <th>v4</th>\n",
       "      <td>0</td>\n",
       "      <td>1000</td>\n",
       "      <td>1</td>\n",
       "    </tr>\n",
       "  </tbody>\n",
       "</table>\n",
       "</div>"
      ],
      "text/plain": [
       "          lb    ub objective\n",
       "vO2    -1000  1000       NaN\n",
       "vGlcxt -1000  1000       NaN\n",
       "vAc    -1000  1000       NaN\n",
       "vX         0  1000       NaN\n",
       "v1         0  1000         1\n",
       "v2         0  1000         1\n",
       "v3         0  1000         1\n",
       "v4         0  1000         1"
      ]
     },
     "execution_count": 8,
     "metadata": {},
     "output_type": "execute_result"
    }
   ],
   "source": [
    "# objective function & boundaries\n",
    "pprint(mfba.objective)\n",
    "fbc.cobra_reaction_info(mfba)"
   ]
  },
  {
   "cell_type": "code",
   "execution_count": 9,
   "metadata": {
    "collapsed": false
   },
   "outputs": [
    {
     "name": "stdout",
     "output_type": "stream",
     "text": [
      "<Solution 91.33 at 0x7f68c8a2a6d0>\n",
      "optimal\n"
     ]
    }
   ],
   "source": [
    "# simulate\n",
    "# s = mfba.optimize()\n",
    "s = mfba.optimize(objective_sense=\"maximize\")\n",
    "\n",
    "print(s)\n",
    "print(mfba.solution.status)"
   ]
  },
  {
   "cell_type": "code",
   "execution_count": 10,
   "metadata": {
    "collapsed": false
   },
   "outputs": [
    {
     "name": "stdout",
     "output_type": "stream",
     "text": [
      "IN FLUXES     OUT FLUXES    OBJECTIVES\n",
      "------------  ------------  ------------\n",
      "Glcxt  1e+03  Ac  169       v1   0\n",
      "O2     1e+03  X    91.3     v2  77.4\n",
      "                            v3   0\n",
      "                            v4  13.9\n"
     ]
    }
   ],
   "source": [
    "# summary of solution\n",
    "mfba.summary()"
   ]
  },
  {
   "cell_type": "code",
   "execution_count": 11,
   "metadata": {
    "collapsed": false
   },
   "outputs": [
    {
     "data": {
      "text/html": [
       "<div>\n",
       "<table border=\"1\" class=\"dataframe\">\n",
       "  <thead>\n",
       "    <tr style=\"text-align: right;\">\n",
       "      <th></th>\n",
       "      <th>maximum</th>\n",
       "      <th>minimum</th>\n",
       "    </tr>\n",
       "  </thead>\n",
       "  <tbody>\n",
       "    <tr>\n",
       "      <th>v1</th>\n",
       "      <td>0.00000</td>\n",
       "      <td>0.00000</td>\n",
       "    </tr>\n",
       "    <tr>\n",
       "      <th>v2</th>\n",
       "      <td>77.39938</td>\n",
       "      <td>77.39938</td>\n",
       "    </tr>\n",
       "    <tr>\n",
       "      <th>v3</th>\n",
       "      <td>0.00000</td>\n",
       "      <td>0.00000</td>\n",
       "    </tr>\n",
       "    <tr>\n",
       "      <th>v4</th>\n",
       "      <td>13.92625</td>\n",
       "      <td>13.92625</td>\n",
       "    </tr>\n",
       "    <tr>\n",
       "      <th>vAc</th>\n",
       "      <td>-168.78619</td>\n",
       "      <td>-168.78619</td>\n",
       "    </tr>\n",
       "    <tr>\n",
       "      <th>vGlcxt</th>\n",
       "      <td>1000.00000</td>\n",
       "      <td>1000.00000</td>\n",
       "    </tr>\n",
       "    <tr>\n",
       "      <th>vO2</th>\n",
       "      <td>1000.00000</td>\n",
       "      <td>1000.00000</td>\n",
       "    </tr>\n",
       "    <tr>\n",
       "      <th>vX</th>\n",
       "      <td>91.32563</td>\n",
       "      <td>91.32563</td>\n",
       "    </tr>\n",
       "  </tbody>\n",
       "</table>\n",
       "</div>"
      ],
      "text/plain": [
       "           maximum     minimum\n",
       "v1         0.00000     0.00000\n",
       "v2        77.39938    77.39938\n",
       "v3         0.00000     0.00000\n",
       "v4        13.92625    13.92625\n",
       "vAc     -168.78619  -168.78619\n",
       "vGlcxt  1000.00000  1000.00000\n",
       "vO2     1000.00000  1000.00000\n",
       "vX        91.32563    91.32563"
      ]
     },
     "execution_count": 11,
     "metadata": {},
     "output_type": "execute_result"
    }
   ],
   "source": [
    "# FVA\n",
    "# running flux variability analysis with the model\n",
    "fva_result = cobra.flux_analysis.flux_variability_analysis(mfba, mfba.reactions)\n",
    "pd.DataFrame.from_dict(fva_result).T.round(5)"
   ]
  },
  {
   "cell_type": "code",
   "execution_count": null,
   "metadata": {
    "collapsed": true
   },
   "outputs": [],
   "source": [
    "from cobra.test import test_all\n"
   ]
  }
 ],
 "metadata": {
  "kernelspec": {
   "display_name": "Python 2",
   "language": "python",
   "name": "python2"
  },
  "language_info": {
   "codemirror_mode": {
    "name": "ipython",
    "version": 2
   },
   "file_extension": ".py",
   "mimetype": "text/x-python",
   "name": "python",
   "nbconvert_exporter": "python",
   "pygments_lexer": "ipython2",
   "version": "2.7.12"
  }
 },
 "nbformat": 4,
 "nbformat_minor": 2
}
