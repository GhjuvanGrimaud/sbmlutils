{
 "cells": [
  {
   "cell_type": "code",
   "execution_count": 1,
   "metadata": {
    "collapsed": true
   },
   "outputs": [],
   "source": [
    "# ODE simulations"
   ]
  },
  {
   "cell_type": "code",
   "execution_count": 2,
   "metadata": {
    "collapsed": true
   },
   "outputs": [],
   "source": [
    "from __future__ import print_function, division\n",
    "import pandas as pd\n",
    "from pprint import pprint\n",
    "import tellurium as te"
   ]
  },
  {
   "cell_type": "code",
   "execution_count": 3,
   "metadata": {
    "collapsed": false
   },
   "outputs": [
    {
     "data": {
      "image/png": "[encoded data removed]",
      "text/plain": [
       "<matplotlib.figure.Figure at 0x7ffaec6a02d0>"
      ]
     },
     "metadata": {},
     "output_type": "display_data"
    },
    {
     "data": {
      "text/plain": [
       "<module 'matplotlib.pyplot' from '/usr/local/lib/python2.7/dist-packages/matplotlib/pyplot.pyc'>"
      ]
     },
     "execution_count": 3,
     "metadata": {},
     "output_type": "execute_result"
    }
   ],
   "source": [
    "# load model\n",
    "mbounds = './results/diauxic_bounds.xml'\n",
    "r = te.loads(mbounds)\n",
    "r.timeCourseSelections += r.getGlobalParameterIds()\n",
    "s = r.simulate(0, 10, steps=200)\n",
    "r.plot()"
   ]
  },
  {
   "cell_type": "code",
   "execution_count": 6,
   "metadata": {
    "collapsed": false
   },
   "outputs": [
    {
     "data": {
      "image/png": "[encoded data removed]",
      "text/plain": [
       "<matplotlib.figure.Figure at 0x7ffae792f210>"
      ]
     },
     "metadata": {},
     "output_type": "display_data"
    },
    {
     "data": {
      "text/plain": [
       "<module 'matplotlib.pyplot' from '/usr/local/lib/python2.7/dist-packages/matplotlib/pyplot.pyc'>"
      ]
     },
     "execution_count": 6,
     "metadata": {},
     "output_type": "execute_result"
    }
   ],
   "source": [
    "# load model\n",
    "mupdate = './results/diauxic_update.xml'\n",
    "r = te.loads(mupdate)\n",
    "r.timeCourseSelections += r.getGlobalParameterIds()\n",
    "s = r.simulate(0, 20, steps=200)\n",
    "r.plot()\n",
    "\n",
    "\n"
   ]
  },
  {
   "cell_type": "code",
   "execution_count": 5,
   "metadata": {
    "collapsed": false
   },
   "outputs": [
    {
     "data": {
      "text/plain": [
       "    time,      [Glcxt],         [Ac],         [O2],        [X], vGlcxt, vAc, vO2, vX, Km_vFBA\n",
       " [[    0,         10.8,          0.4,         0.21,      0.001,      1,   1,   1,  1,    0.02],\n",
       "  [ 0.05,      10.7999,     0.399951,     0.209953, 0.00105129,      1,   1,   1,  1,    0.02],\n",
       "  [  0.1,      10.7999,       0.3999,     0.209904,  0.0011052,      1,   1,   1,  1,    0.02],\n",
       "  [ 0.15,      10.7998,     0.399846,     0.209852, 0.00116188,      1,   1,   1,  1,    0.02],\n",
       "  [  0.2,      10.7998,     0.399789,     0.209798, 0.00122146,      1,   1,   1,  1,    0.02],\n",
       "  [ 0.25,      10.7997,     0.399729,     0.209741, 0.00128409,      1,   1,   1,  1,    0.02],\n",
       "  [  0.3,      10.7997,     0.399667,     0.209681, 0.00134993,      1,   1,   1,  1,    0.02],\n",
       "  [ 0.35,      10.7996,     0.399601,     0.209617, 0.00141914,      1,   1,   1,  1,    0.02],\n",
       "  [  0.4,      10.7995,     0.399532,     0.209551, 0.00149191,      1,   1,   1,  1,    0.02],\n",
       "  [ 0.45,      10.7994,     0.399459,     0.209481, 0.00156841,      1,   1,   1,  1,    0.02],\n",
       "  [  0.5,      10.7994,     0.399382,     0.209408, 0.00164883,      1,   1,   1,  1,    0.02],\n",
       "  [ 0.55,      10.7993,     0.399302,      0.20933, 0.00173337,      1,   1,   1,  1,    0.02],\n",
       "  [  0.6,      10.7992,     0.399217,     0.209249, 0.00182225,      1,   1,   1,  1,    0.02],\n",
       "  [ 0.65,      10.7991,     0.399128,     0.209164, 0.00191569,      1,   1,   1,  1,    0.02],\n",
       "  [  0.7,       10.799,     0.399034,     0.209074, 0.00201393,      1,   1,   1,  1,    0.02],\n",
       "  [ 0.75,      10.7989,     0.398936,      0.20898,  0.0021172,      1,   1,   1,  1,    0.02],\n",
       "  [  0.8,      10.7988,     0.398833,     0.208881, 0.00222577,      1,   1,   1,  1,    0.02],\n",
       "  [ 0.85,      10.7987,     0.398724,     0.208777, 0.00233991,      1,   1,   1,  1,    0.02],\n",
       "  [  0.9,      10.7985,      0.39861,     0.208667,  0.0024599,      1,   1,   1,  1,    0.02],\n",
       "  [ 0.95,      10.7984,      0.39849,     0.208552, 0.00258603,      1,   1,   1,  1,    0.02],\n",
       "  [    1,      10.7983,     0.398363,     0.208431, 0.00271864,      1,   1,   1,  1,    0.02],\n",
       "  [ 1.05,      10.7981,     0.398231,     0.208304, 0.00285803,      1,   1,   1,  1,    0.02],\n",
       "  [  1.1,       10.798,     0.398091,      0.20817, 0.00300457,      1,   1,   1,  1,    0.02],\n",
       "  [ 1.15,      10.7978,     0.397944,      0.20803, 0.00315863,      1,   1,   1,  1,    0.02],\n",
       "  [  1.2,      10.7977,      0.39779,     0.207882, 0.00332058,      1,   1,   1,  1,    0.02],\n",
       "  [ 1.25,      10.7975,     0.397628,     0.207727, 0.00349083,      1,   1,   1,  1,    0.02],\n",
       "  [  1.3,      10.7973,     0.397458,     0.207564, 0.00366982,      1,   1,   1,  1,    0.02],\n",
       "  [ 1.35,      10.7971,     0.397279,     0.207392, 0.00385798,      1,   1,   1,  1,    0.02],\n",
       "  [  1.4,      10.7969,      0.39709,     0.207212, 0.00405578,      1,   1,   1,  1,    0.02],\n",
       "  [ 1.45,      10.7967,     0.396892,     0.207022, 0.00426374,      1,   1,   1,  1,    0.02],\n",
       "  [  1.5,      10.7965,     0.396684,     0.206823, 0.00448235,      1,   1,   1,  1,    0.02],\n",
       "  [ 1.55,      10.7963,     0.396465,     0.206613, 0.00471218,      1,   1,   1,  1,    0.02],\n",
       "  [  1.6,      10.7961,     0.396235,     0.206393, 0.00495378,      1,   1,   1,  1,    0.02],\n",
       "  [ 1.65,      10.7958,     0.395994,     0.206161, 0.00520778,      1,   1,   1,  1,    0.02],\n",
       "  [  1.7,      10.7955,     0.395739,     0.205918,  0.0054748,      1,   1,   1,  1,    0.02],\n",
       "  [ 1.75,      10.7953,     0.395472,     0.205662,  0.0057555,      1,   1,   1,  1,    0.02],\n",
       "  [  1.8,       10.795,     0.395191,     0.205393, 0.00605061,      1,   1,   1,  1,    0.02],\n",
       "  [ 1.85,      10.7946,     0.394896,      0.20511, 0.00636086,      1,   1,   1,  1,    0.02],\n",
       "  [  1.9,      10.7943,     0.394586,     0.204813, 0.00668701,      1,   1,   1,  1,    0.02],\n",
       "  [ 1.95,       10.794,     0.394259,     0.204501, 0.00702989,      1,   1,   1,  1,    0.02],\n",
       "  [    2,      10.7936,     0.393916,     0.204172, 0.00739036,      1,   1,   1,  1,    0.02],\n",
       "  [ 2.05,      10.7932,     0.393556,     0.203827, 0.00776932,      1,   1,   1,  1,    0.02],\n",
       "  [  2.1,      10.7928,     0.393176,     0.203465, 0.00816769,      1,   1,   1,  1,    0.02],\n",
       "  [ 2.15,      10.7924,     0.392778,     0.203083, 0.00858649,      1,   1,   1,  1,    0.02],\n",
       "  [  2.2,       10.792,     0.392359,     0.202683, 0.00902677,      1,   1,   1,  1,    0.02],\n",
       "  [ 2.25,      10.7915,     0.391919,     0.202261, 0.00948962,      1,   1,   1,  1,    0.02],\n",
       "  [  2.3,       10.791,     0.391456,     0.201819, 0.00997618,      1,   1,   1,  1,    0.02],\n",
       "  [ 2.35,      10.7905,     0.390969,     0.201353,  0.0104877,      1,   1,   1,  1,    0.02],\n",
       "  [  2.4,        10.79,     0.390457,     0.200864,  0.0110254,      1,   1,   1,  1,    0.02],\n",
       "  [ 2.45,      10.7894,      0.38992,      0.20035,  0.0115907,      1,   1,   1,  1,    0.02],\n",
       "  [  2.5,      10.7888,     0.389354,      0.19981,   0.012185,      1,   1,   1,  1,    0.02],\n",
       "  [ 2.55,      10.7882,      0.38876,     0.199242,  0.0128098,      1,   1,   1,  1,    0.02],\n",
       "  [  2.6,      10.7876,     0.388136,     0.198645,  0.0134666,      1,   1,   1,  1,    0.02],\n",
       "  [ 2.65,      10.7869,     0.387479,     0.198018,   0.014157,      1,   1,   1,  1,    0.02],\n",
       "  [  2.7,      10.7861,     0.386789,     0.197359,  0.0148829,      1,   1,   1,  1,    0.02],\n",
       "  [ 2.75,      10.7854,     0.386063,     0.196666,  0.0156459,      1,   1,   1,  1,    0.02],\n",
       "  [  2.8,      10.7846,     0.385301,     0.195938,  0.0164481,      1,   1,   1,  1,    0.02],\n",
       "  [ 2.85,      10.7837,     0.384499,     0.195173,  0.0172915,      1,   1,   1,  1,    0.02],\n",
       "  [  2.9,      10.7829,     0.383656,     0.194369,   0.018178,      1,   1,   1,  1,    0.02],\n",
       "  [ 2.95,      10.7819,     0.382771,     0.193524,  0.0191101,      1,   1,   1,  1,    0.02],\n",
       "  [    3,      10.7809,     0.381839,     0.192636,  0.0200899,      1,   1,   1,  1,    0.02],\n",
       "  [ 3.05,      10.7799,     0.380861,     0.191703,  0.0211199,      1,   1,   1,  1,    0.02],\n",
       "  [  3.1,      10.7788,     0.379832,     0.190723,  0.0222028,      1,   1,   1,  1,    0.02],\n",
       "  [ 3.15,      10.7777,     0.378751,     0.189693,  0.0233412,      1,   1,   1,  1,    0.02],\n",
       "  [  3.2,      10.7765,     0.377614,     0.188611,   0.024538,      1,   1,   1,  1,    0.02],\n",
       "  [ 3.25,      10.7752,     0.376419,     0.187473,  0.0257961,      1,   1,   1,  1,    0.02],\n",
       "  [  3.3,      10.7739,     0.375163,     0.186279,  0.0271187,      1,   1,   1,  1,    0.02],\n",
       "  [ 3.35,      10.7725,     0.373843,     0.185023,  0.0285092,      1,   1,   1,  1,    0.02],\n",
       "  [  3.4,      10.7711,     0.372456,     0.183705,  0.0299709,      1,   1,   1,  1,    0.02],\n",
       "  [ 3.45,      10.7695,     0.370998,      0.18232,  0.0315076,      1,   1,   1,  1,    0.02],\n",
       "  [  3.5,      10.7679,     0.369465,     0.180864,   0.033123,      1,   1,   1,  1,    0.02],\n",
       "  [ 3.55,      10.7662,     0.367854,     0.179336,  0.0348213,      1,   1,   1,  1,    0.02],\n",
       "  [  3.6,      10.7645,     0.366161,      0.17773,  0.0366067,      1,   1,   1,  1,    0.02],\n",
       "  [ 3.65,      10.7626,     0.364382,     0.176044,  0.0384836,      1,   1,   1,  1,    0.02],\n",
       "  [  3.7,      10.7606,     0.362512,     0.174273,  0.0404567,      1,   1,   1,  1,    0.02],\n",
       "  [ 3.75,      10.7585,     0.360546,     0.172414,   0.042531,      1,   1,   1,  1,    0.02],\n",
       "  [  3.8,      10.7564,      0.35848,     0.170461,  0.0447117,      1,   1,   1,  1,    0.02],\n",
       "  [ 3.85,      10.7541,     0.356309,      0.16841,  0.0470042,      1,   1,   1,  1,    0.02],\n",
       "  [  3.9,      10.7517,     0.354028,     0.166258,  0.0494142,      1,   1,   1,  1,    0.02],\n",
       "  [ 3.95,      10.7491,      0.35163,     0.163998,  0.0519477,      1,   1,   1,  1,    0.02],\n",
       "  [    4,      10.7465,      0.34911,     0.161626,  0.0546112,      1,   1,   1,  1,    0.02],\n",
       "  [ 4.05,      10.7437,     0.346463,     0.159136,  0.0574113,      1,   1,   1,  1,    0.02],\n",
       "  [  4.1,      10.7408,      0.34368,     0.156524,  0.0603548,      1,   1,   1,  1,    0.02],\n",
       "  [ 4.15,      10.7377,     0.340757,     0.153783,  0.0634494,      1,   1,   1,  1,    0.02],\n",
       "  [  4.2,      10.7344,     0.337685,     0.150907,  0.0667026,      1,   1,   1,  1,    0.02],\n",
       "  [ 4.25,       10.731,     0.334457,     0.147891,  0.0701226,      1,   1,   1,  1,    0.02],\n",
       "  [  4.3,      10.7274,     0.331065,     0.144729,  0.0737179,      1,   1,   1,  1,    0.02],\n",
       "  [ 4.35,      10.7236,     0.327502,     0.141413,  0.0774976,      1,   1,   1,  1,    0.02],\n",
       "  [  4.4,      10.7197,     0.323759,     0.137937,  0.0814711,      1,   1,   1,  1,    0.02],\n",
       "  [ 4.45,      10.7155,     0.319826,     0.134296,  0.0856483,      1,   1,   1,  1,    0.02],\n",
       "  [  4.5,      10.7111,     0.315695,     0.130481,  0.0900397,      1,   1,   1,  1,    0.02],\n",
       "  [ 4.55,      10.7065,     0.311355,     0.126487,  0.0946562,      1,   1,   1,  1,    0.02],\n",
       "  [  4.6,      10.7017,     0.306797,     0.122307,  0.0995095,      1,   1,   1,  1,    0.02],\n",
       "  [ 4.65,      10.6966,     0.302009,     0.117934,   0.104611,      1,   1,   1,  1,    0.02],\n",
       "  [  4.7,      10.6912,     0.296982,     0.113363,   0.109975,      1,   1,   1,  1,    0.02],\n",
       "  [ 4.75,      10.6856,     0.291702,     0.108587,   0.115614,      1,   1,   1,  1,    0.02],\n",
       "  [  4.8,      10.6797,     0.286158,     0.103601,   0.121542,      1,   1,   1,  1,    0.02],\n",
       "  [ 4.85,      10.6735,     0.280337,    0.0984006,   0.127773,      1,   1,   1,  1,    0.02],\n",
       "  [  4.9,      10.6669,     0.274227,    0.0929835,   0.134324,      1,   1,   1,  1,    0.02],\n",
       "  [ 4.95,        10.66,     0.267814,    0.0873478,   0.141211,      1,   1,   1,  1,    0.02],\n",
       "  [    5,      10.6528,     0.261083,    0.0814964,   0.148451,      1,   1,   1,  1,    0.02],\n",
       "  [ 5.05,      10.6452,      0.25402,     0.075433,   0.156063,      1,   1,   1,  1,    0.02],\n",
       "  [  5.1,      10.6372,     0.246611,    0.0691671,   0.164064,      1,   1,   1,  1,    0.02],\n",
       "  [ 5.15,      10.6288,     0.238839,    0.0627148,   0.172476,      1,   1,   1,  1,    0.02],\n",
       "  [  5.2,        10.62,      0.23069,     0.056102,   0.181319,      1,   1,   1,  1,    0.02],\n",
       "  [ 5.25,      10.6107,     0.222149,    0.0493653,   0.190615,      1,   1,   1,  1,    0.02],\n",
       "  [  5.3,       10.601,     0.213198,    0.0425599,   0.200389,      1,   1,   1,  1,    0.02],\n",
       "  [ 5.35,      10.5907,     0.203823,    0.0357654,   0.210663,      1,   1,   1,  1,    0.02],\n",
       "  [  5.4,      10.5799,     0.194009,    0.0290945,   0.221464,      1,   1,   1,  1,    0.02],\n",
       "  [ 5.45,      10.5686,     0.183742,    0.0227024,   0.232818,      1,   1,   1,  1,    0.02],\n",
       "  [  5.5,      10.5567,     0.173009,    0.0167938,   0.244755,      1,   1,   1,  1,    0.02],\n",
       "  [ 5.55,      10.5442,       0.1618,    0.0116161,   0.257304,      1,   1,   1,  1,    0.02],\n",
       "  [  5.6,       10.531,     0.150108,     0.007411,   0.270496,      1,   1,   1,  1,    0.02],\n",
       "  [ 5.65,      10.5172,     0.137931,   0.00432299,   0.284365,      1,   1,   1,  1,    0.02],\n",
       "  [  5.7,      10.5026,     0.125276,   0.00230676,   0.298945,      1,   1,   1,  1,    0.02],\n",
       "  [ 5.75,      10.4873,     0.112161,   0.00113662,   0.314272,      1,   1,   1,  1,    0.02],\n",
       "  [  5.8,      10.4712,    0.0986208,  0.000523584,   0.330385,      1,   1,   1,  1,    0.02],\n",
       "  [ 5.85,      10.4543,    0.0847202,  0.000227795,   0.347324,      1,   1,   1,  1,    0.02],\n",
       "  [  5.9,      10.4366,    0.0705681,  9.41367e-05,   0.365132,      1,   1,   1,  1,    0.02],\n",
       "  [ 5.95,      10.4179,     0.056348,  3.70259e-05,   0.383852,      1,   1,   1,  1,    0.02],\n",
       "  [    6,      10.3982,    0.0423697,  1.38589e-05,   0.403533,      1,   1,   1,  1,    0.02],\n",
       "  [ 6.05,      10.3776,    0.0291558,  4.92943e-06,   0.424222,      1,   1,   1,  1,    0.02],\n",
       "  [  6.1,      10.3559,    0.0175533,  1.66239e-06,   0.445973,      1,   1,   1,  1,    0.02],\n",
       "  [ 6.15,       10.333,   0.00870761,  5.30399e-07,   0.468838,      1,   1,   1,  1,    0.02],\n",
       "  [  6.2,      10.3091,   0.00341186,  1.59658e-07,   0.492876,      1,   1,   1,  1,    0.02],\n",
       "  [ 6.25,      10.2838,   0.00108343,  4.51447e-08,   0.518147,      1,   1,   1,  1,    0.02],\n",
       "  [  6.3,      10.2573,  0.000298401,  1.19648e-08,   0.544712,      1,   1,   1,  1,    0.02],\n",
       "  [ 6.35,      10.2294,  7.46771e-05,   2.9632e-09,    0.57264,      1,   1,   1,  1,    0.02],\n",
       "  [  6.4,      10.2001,  1.72641e-05,  6.83297e-10,      0.602,      1,   1,   1,  1,    0.02],\n",
       "  [ 6.45,      10.1693,   3.6919e-06,  1.46011e-10,   0.632866,      1,   1,   1,  1,    0.02],\n",
       "  [  6.5,       10.137,   7.2925e-07,  2.88422e-11,   0.665313,      1,   1,   1,  1,    0.02],\n",
       "  [ 6.55,      10.1029,  1.32979e-07,  5.26825e-12,   0.699425,      1,   1,   1,  1,    0.02],\n",
       "  [  6.6,      10.0671,  2.23283e-08,  8.85201e-13,   0.735285,      1,   1,   1,  1,    0.02],\n",
       "  [ 6.65,      10.0295,  3.43265e-09,  1.35967e-13,   0.772984,      1,   1,   1,  1,    0.02],\n",
       "  [  6.7,      9.98994,  8.48513e-10,  3.58885e-14,   0.812616,      1,   1,   1,  1,    0.02],\n",
       "  [ 6.75,      9.94836, -2.94648e-11, -2.45134e-15,   0.854279,      1,   1,   1,  1,    0.02],\n",
       "  [  6.8,      9.90465,  5.09884e-11,  2.08855e-15,   0.898079,      1,   1,   1,  1,    0.02],\n",
       "  [ 6.85,       9.8587, -3.45438e-11, -1.60345e-15,   0.944125,      1,   1,   1,  1,    0.02],\n",
       "  [  6.9,      9.81039, -5.15896e-11, -2.33168e-15,   0.992531,      1,   1,   1,  1,    0.02],\n",
       "  [ 6.95,      9.75961,  1.03754e-10,  5.84904e-15,    1.04342,      1,   1,   1,  1,    0.02],\n",
       "  [    7,      9.70622,  4.43252e-11,  3.35133e-15,    1.09692,      1,   1,   1,  1,    0.02],\n",
       "  [ 7.05,       9.6501,  4.02181e-10,  1.86464e-14,    1.15316,      1,   1,   1,  1,    0.02],\n",
       "  [  7.1,      9.59109,  2.80239e-10,  1.24057e-14,    1.21228,      1,   1,   1,  1,    0.02],\n",
       "  [ 7.15,      9.52907,  1.52923e-10,  7.74945e-15,    1.27443,      1,   1,   1,  1,    0.02],\n",
       "  [  7.2,      9.46386,  6.48317e-11,  3.26523e-15,    1.33978,      1,   1,   1,  1,    0.02],\n",
       "  [ 7.25,      9.39532,  2.58907e-10,  1.25477e-14,    1.40847,      1,   1,   1,  1,    0.02],\n",
       "  [  7.3,      9.32326,   6.3549e-11,  2.91607e-15,    1.48068,      1,   1,   1,  1,    0.02],\n",
       "  [ 7.35,      9.24751, -2.19479e-10, -1.22295e-14,     1.5566,      1,   1,   1,  1,    0.02],\n",
       "  [  7.4,      9.16787,  2.23167e-11,  9.84329e-16,    1.63641,      1,   1,   1,  1,    0.02],\n",
       "  [ 7.45,      9.08415,  4.23627e-11,  2.44931e-15,    1.72031,      1,   1,   1,  1,    0.02],\n",
       "  [  7.5,      8.99615, -6.22004e-11, -3.32354e-15,    1.80851,      1,   1,   1,  1,    0.02],\n",
       "  [ 7.55,      8.90363, -4.55736e-11, -2.57015e-15,    1.90123,      1,   1,   1,  1,    0.02],\n",
       "  [  7.6,      8.80637,  2.73138e-11,  1.48618e-15,    1.99871,      1,   1,   1,  1,    0.02],\n",
       "  [ 7.65,      8.70413,  1.87701e-11,  1.09645e-15,    2.10119,      1,   1,   1,  1,    0.02],\n",
       "  [  7.7,      8.59664,  3.29345e-11,  1.97881e-15,    2.20892,      1,   1,   1,  1,    0.02],\n",
       "  [ 7.75,      8.48366,  2.06689e-10,  1.17173e-14,    2.32217,      1,   1,   1,  1,    0.02],\n",
       "  [  7.8,      8.36488,  1.25242e-10,  6.96967e-15,    2.44123,      1,   1,   1,  1,    0.02],\n",
       "  [ 7.85,      8.24001, -1.16763e-10, -6.68075e-15,     2.5664,      1,   1,   1,  1,    0.02],\n",
       "  [  7.9,      8.10875,  7.88969e-11,   4.4055e-15,    2.69798,      1,   1,   1,  1,    0.02],\n",
       "  [ 7.95,      7.97077,  3.32787e-11,  1.88545e-15,    2.83631,      1,   1,   1,  1,    0.02],\n",
       "  [    8,      7.82571, -1.05586e-11, -5.90959e-16,    2.98173,      1,   1,   1,  1,    0.02],\n",
       "  [ 8.05,      7.67323, -2.45026e-11, -1.37008e-15,    3.13461,      1,   1,   1,  1,    0.02],\n",
       "  [  8.1,      7.51294, -2.99954e-11, -1.71438e-15,    3.29532,      1,   1,   1,  1,    0.02],\n",
       "  [ 8.15,      7.34444,  5.76463e-12,   3.3504e-16,    3.46428,      1,   1,   1,  1,    0.02],\n",
       "  [  8.2,      7.16731, -8.76766e-13, -7.47426e-17,    3.64189,      1,   1,   1,  1,    0.02],\n",
       "  [ 8.25,      6.98111,  1.92983e-11,  1.11249e-15,    3.82862,      1,   1,   1,  1,    0.02],\n",
       "  [  8.3,      6.78538,  1.74027e-11,  1.01862e-15,    4.02492,      1,   1,   1,  1,    0.02],\n",
       "  [ 8.35,      6.57963, -4.62633e-10, -2.70673e-14,    4.23128,      1,   1,   1,  1,    0.02],\n",
       "  [  8.4,      6.36336,  2.06394e-11,  1.20764e-15,    4.44822,      1,   1,   1,  1,    0.02],\n",
       "  [ 8.45,      6.13602, -2.91775e-11, -1.70713e-15,    4.67629,      1,   1,   1,  1,    0.02],\n",
       "  [  8.5,      5.89706,  3.24399e-11,  1.89801e-15,    4.91604,      1,   1,   1,  1,    0.02],\n",
       "  [ 8.55,      5.64588,    2.188e-11,   1.2802e-15,     5.1681,      1,   1,   1,  1,    0.02],\n",
       "  [  8.6,      5.38186,  1.14375e-10,  6.69203e-15,    5.43307,      1,   1,   1,  1,    0.02],\n",
       "  [ 8.65,      5.10436, -1.79251e-10,  -1.0488e-14,    5.71163,      1,   1,   1,  1,    0.02],\n",
       "  [  8.7,       4.8127,  9.89976e-11,  5.79237e-15,    6.00447,      1,   1,   1,  1,    0.02],\n",
       "  [ 8.75,      4.50616, -1.64623e-10, -9.63207e-15,    6.31233,      1,   1,   1,  1,    0.02],\n",
       "  [  8.8,        4.184,  5.45326e-11,  3.19073e-15,    6.63597,      1,   1,   1,  1,    0.02],\n",
       "  [ 8.85,      3.84545, -5.51653e-11, -3.22776e-15,     6.9762,      1,   1,   1,  1,    0.02],\n",
       "  [  8.9,      3.48972, -3.40263e-11, -1.99057e-15,    7.33388,      1,   1,   1,  1,    0.02],\n",
       "  [ 8.95,      3.11597,  1.43236e-11,  8.38011e-16,    7.70989,      1,   1,   1,  1,    0.02],\n",
       "  [    9,      2.72337,  2.90566e-11,  1.70018e-15,    8.10519,      1,   1,   1,  1,    0.02],\n",
       "  [ 9.05,      2.31109,   4.5326e-11,  2.65212e-15,    8.52075,      1,   1,   1,  1,    0.02],\n",
       "  [  9.1,      1.87838, -6.70764e-11,  -3.9249e-15,    8.95762,      1,   1,   1,  1,    0.02],\n",
       "  [ 9.15,      1.42465,   3.4404e-10,  2.01308e-14,    9.41688,      1,   1,   1,  1,    0.02],\n",
       "  [  9.2,     0.949955,  6.31846e-11,  3.69711e-15,     9.8997,      1,   1,   1,  1,    0.02],\n",
       "  [ 9.25,     0.457065,  6.85391e-12,  4.01036e-16,    10.4073,      1,   1,   1,  1,    0.02],\n",
       "  [  9.3,   0.00702826,  4.99484e-15,  2.92264e-19,    10.9409,      1,   1,   1,  1,    0.02],\n",
       "  [ 9.35, -2.87743e-11, -1.52779e-23, -8.93957e-28,    11.5018,      1,   1,   1,  1,    0.02],\n",
       "  [  9.4,  7.04887e-11,  3.39449e-23,  1.98622e-27,    12.0915,      1,   1,   1,  1,    0.02],\n",
       "  [ 9.45, -6.08655e-12, -2.70862e-24,  -1.5849e-28,    12.7115,      1,   1,   1,  1,    0.02],\n",
       "  [  9.5, -1.51932e-10, -7.31203e-23,  -4.2785e-27,    13.3632,      1,   1,   1,  1,    0.02],\n",
       "  [ 9.55, -7.29365e-12, -3.51001e-24, -2.05382e-28,    14.0483,      1,   1,   1,  1,    0.02],\n",
       "  [  9.6, -1.48273e-11, -7.13569e-24, -4.17532e-28,    14.7686,      1,   1,   1,  1,    0.02],\n",
       "  [ 9.65,  2.17677e-11,  1.04761e-23,   6.1299e-28,    15.5258,      1,   1,   1,  1,    0.02],\n",
       "  [  9.7,  9.52832e-11,   4.5857e-23,  2.68324e-27,    16.3218,      1,   1,   1,  1,    0.02],\n",
       "  [ 9.75,  6.02308e-13,  2.89871e-25,  1.69613e-29,    17.1587,      1,   1,   1,  1,    0.02],\n",
       "  [  9.8,  5.91265e-12,  2.84558e-24,  1.66504e-28,    18.0384,      1,   1,   1,  1,    0.02],\n",
       "  [ 9.85,  2.84235e-11,  1.36794e-23,  8.00424e-28,    18.9633,      1,   1,   1,  1,    0.02],\n",
       "  [  9.9,  -4.9312e-12, -2.37324e-24, -1.38866e-28,    19.9355,      1,   1,   1,  1,    0.02],\n",
       "  [ 9.95,  1.08919e-10,  5.24195e-23,  3.06723e-27,    20.9577,      1,   1,   1,  1,    0.02],\n",
       "  [   10,  -6.1323e-11, -2.95129e-23,  -1.7269e-27,    22.0322,      1,   1,   1,  1,    0.02]]"
      ]
     },
     "execution_count": 5,
     "metadata": {},
     "output_type": "execute_result"
    }
   ],
   "source": [
    "s"
   ]
  },
  {
   "cell_type": "code",
   "execution_count": null,
   "metadata": {
    "collapsed": true
   },
   "outputs": [],
   "source": []
  }
 ],
 "metadata": {
  "kernelspec": {
   "display_name": "Python 2",
   "language": "python",
   "name": "python2"
  },
  "language_info": {
   "codemirror_mode": {
    "name": "ipython",
    "version": 2
   },
   "file_extension": ".py",
   "mimetype": "text/x-python",
   "name": "python",
   "nbconvert_exporter": "python",
   "pygments_lexer": "ipython2",
   "version": "2.7.12"
  }
 },
 "nbformat": 4,
 "nbformat_minor": 2
}
