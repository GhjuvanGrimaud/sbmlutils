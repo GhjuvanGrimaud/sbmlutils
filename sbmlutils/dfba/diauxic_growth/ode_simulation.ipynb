{
 "cells": [
  {
   "cell_type": "code",
   "execution_count": 1,
   "metadata": {
    "collapsed": true
   },
   "outputs": [],
   "source": [
    "# ODE simulations"
   ]
  },
  {
   "cell_type": "code",
   "execution_count": 2,
   "metadata": {
    "collapsed": true
   },
   "outputs": [],
   "source": [
    "from __future__ import print_function, division\n",
    "import pandas as pd\n",
    "from pprint import pprint\n",
    "import tellurium as te"
   ]
  },
  {
   "cell_type": "code",
   "execution_count": 3,
   "metadata": {
    "collapsed": true
   },
   "outputs": [],
   "source": [
    "# load model\n",
    "source = './results/diauxic_bounds.xml'\n",
    "r = te.loads(source)\n",
    "r.timeCourseSelections += r.getGlobalParameterIds()"
   ]
  },
  {
   "cell_type": "code",
   "execution_count": 5,
   "metadata": {
    "collapsed": false
   },
   "outputs": [
    {
     "data": {
      "image/png": "[encoded data removed]",
      "text/plain": [
       "<matplotlib.figure.Figure at 0x7f4ae4ff0510>"
      ]
     },
     "metadata": {},
     "output_type": "display_data"
    },
    {
     "data": {
      "text/plain": [
       "<module 'matplotlib.pyplot' from '/usr/local/lib/python2.7/dist-packages/matplotlib/pyplot.pyc'>"
      ]
     },
     "execution_count": 5,
     "metadata": {},
     "output_type": "execute_result"
    }
   ],
   "source": [
    "s = r.simulate()\n",
    "r.plot()"
   ]
  },
  {
   "cell_type": "code",
   "execution_count": 6,
   "metadata": {
    "collapsed": false
   },
   "outputs": [
    {
     "data": {
      "text/plain": [
       "    time,     [Glcxt], Vmax_vGlcxt, Km_vGlcxt, ub_vGlcxt\n",
       " [[    0,           5,          15,     0.015,   14.9551],\n",
       "  [  0.1,     5.49917,          15,     0.015,   14.9592],\n",
       "  [  0.2,     5.99335,          15,     0.015,   14.9626],\n",
       "  [  0.3,      6.4776,          15,     0.015,   14.9653],\n",
       "  [  0.4,     6.94709,          15,     0.015,   14.9677],\n",
       "  [  0.5,     7.39713,          15,     0.015,   14.9696],\n",
       "  [  0.6,     7.82321,          15,     0.015,   14.9713],\n",
       "  [  0.7,     8.22109,          15,     0.015,   14.9727],\n",
       "  [  0.8,     8.58678,          15,     0.015,   14.9738],\n",
       "  [  0.9,     8.91663,          15,     0.015,   14.9748],\n",
       "  [    1,     9.20735,          15,     0.015,   14.9756],\n",
       "  [  1.1,     9.45604,          15,     0.015,   14.9762],\n",
       "  [  1.2,      9.6602,          15,     0.015,   14.9767],\n",
       "  [  1.3,     9.81779,          15,     0.015,   14.9771],\n",
       "  [  1.4,     9.92725,          15,     0.015,   14.9774],\n",
       "  [  1.5,     9.98747,          15,     0.015,   14.9775],\n",
       "  [  1.6,     9.99787,          15,     0.015,   14.9775],\n",
       "  [  1.7,     9.95832,          15,     0.015,   14.9774],\n",
       "  [  1.8,     9.86924,          15,     0.015,   14.9772],\n",
       "  [  1.9,      9.7315,          15,     0.015,   14.9769],\n",
       "  [    2,     9.54649,          15,     0.015,   14.9765],\n",
       "  [  2.1,     9.31605,          15,     0.015,   14.9759],\n",
       "  [  2.2,     9.04248,          15,     0.015,   14.9752],\n",
       "  [  2.3,     8.72853,          15,     0.015,   14.9743],\n",
       "  [  2.4,     8.37732,          15,     0.015,   14.9732],\n",
       "  [  2.5,     7.99236,          15,     0.015,   14.9719],\n",
       "  [  2.6,     7.57751,          15,     0.015,   14.9704],\n",
       "  [  2.7,      7.1369,          15,     0.015,   14.9685],\n",
       "  [  2.8,     6.67494,          15,     0.015,   14.9664],\n",
       "  [  2.9,     6.19625,          15,     0.015,   14.9638],\n",
       "  [    3,      5.7056,          15,     0.015,   14.9607],\n",
       "  [  3.1,      5.2079,          15,     0.015,   14.9569],\n",
       "  [  3.2,     4.70813,          15,     0.015,   14.9524],\n",
       "  [  3.3,     4.21127,          15,     0.015,   14.9468],\n",
       "  [  3.4,     3.72229,          15,     0.015,   14.9398],\n",
       "  [  3.5,     3.24608,          15,     0.015,    14.931],\n",
       "  [  3.6,      2.7874,          15,     0.015,   14.9197],\n",
       "  [  3.7,     2.35082,          15,     0.015,   14.9049],\n",
       "  [  3.8,     1.94071,          15,     0.015,    14.885],\n",
       "  [  3.9,     1.56117,          15,     0.015,   14.8572],\n",
       "  [    4,     1.21599,          15,     0.015,   14.8172],\n",
       "  [  4.1,    0.908614,          15,     0.015,   14.7564],\n",
       "  [  4.2,    0.642121,          15,     0.015,   14.6576],\n",
       "  [  4.3,     0.41917,          15,     0.015,   14.4818],\n",
       "  [  4.4,     0.24199,          15,     0.015,   14.1245],\n",
       "  [  4.5,    0.112349,          15,     0.015,   13.2332],\n",
       "  [  4.6,    0.031545,          15,     0.015,    10.166],\n",
       "  [  4.7, 0.000383712,          15,     0.015,  0.374141],\n",
       "  [  4.8,    0.019177,          15,     0.015,   8.41662],\n",
       "  [  4.9,   0.0877369,          15,     0.015,   12.8099],\n",
       "  [    5,    0.205379,          15,     0.015,    13.979]]"
      ]
     },
     "execution_count": 6,
     "metadata": {},
     "output_type": "execute_result"
    }
   ],
   "source": [
    "s"
   ]
  },
  {
   "cell_type": "code",
   "execution_count": null,
   "metadata": {
    "collapsed": true
   },
   "outputs": [],
   "source": []
  }
 ],
 "metadata": {
  "kernelspec": {
   "display_name": "Python 2",
   "language": "python",
   "name": "python2"
  },
  "language_info": {
   "codemirror_mode": {
    "name": "ipython",
    "version": 2
   },
   "file_extension": ".py",
   "mimetype": "text/x-python",
   "name": "python",
   "nbconvert_exporter": "python",
   "pygments_lexer": "ipython2",
   "version": "2.7.12"
  }
 },
 "nbformat": 4,
 "nbformat_minor": 2
}
