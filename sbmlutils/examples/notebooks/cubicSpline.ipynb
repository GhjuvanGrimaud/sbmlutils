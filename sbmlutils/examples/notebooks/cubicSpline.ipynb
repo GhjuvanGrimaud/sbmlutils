{
 "cells": [
  {
   "cell_type": "markdown",
   "metadata": {},
   "source": [
    "# Cubic spline function\n",
    "Using experimental data as model input via a fitted spline function."
   ]
  },
  {
   "cell_type": "code",
   "execution_count": 17,
   "metadata": {
    "collapsed": true
   },
   "outputs": [],
   "source": [
    "%matplotlib inline\n",
    "from __future__ import print_function\n",
    "import tellurium as te\n",
    "import sbmlutils\n",
    "from sbmlutils.examples.testfiles import test_dir\n",
    "import os"
   ]
  },
  {
   "cell_type": "code",
   "execution_count": 18,
   "metadata": {
    "collapsed": true
   },
   "outputs": [],
   "source": [
    "sbml_path = os.path.join(test_dir, 'models', 'cubicSpline.xml')\n",
    "r = te.loads(sbml_path)"
   ]
  },
  {
   "cell_type": "code",
   "execution_count": 19,
   "metadata": {
    "collapsed": false
   },
   "outputs": [
    {
     "data": {
      "image/png": "[encoded data removed]",
      "text/plain": [
       "<matplotlib.figure.Figure at 0x7f4ba85fc7d0>"
      ]
     },
     "metadata": {},
     "output_type": "display_data"
    },
    {
     "data": {
      "text/plain": [
       "<module 'matplotlib.pyplot' from '/usr/local/lib/python2.7/dist-packages/matplotlib/pyplot.pyc'>"
      ]
     },
     "execution_count": 19,
     "metadata": {},
     "output_type": "execute_result"
    }
   ],
   "source": [
    "r.selections = ['time', 'experimental_data', 'a', 'b', 'c', 'd', 't_0']\n",
    "s = r.simulate(0, 10, 101)\n",
    "r.plot(s)"
   ]
  },
  {
   "cell_type": "code",
   "execution_count": 20,
   "metadata": {
    "collapsed": false
   },
   "outputs": [
    {
     "name": "stdout",
     "output_type": "stream",
     "text": [
      "// Created by libAntimony v2.9.0\n",
      "model *New_Model()\n",
      "\n",
      "  // Assignment Rules:\n",
      "  experimental_data := a*(time - t_0)^3 + b*(time - t_0)^2 + c*(time - t_0) + d;\n",
      "\n",
      "  // Events:\n",
      "  event_1: at time > 0: d = 0, c = 1.02212, b = 0, a = -0.02212, t_0 = 0;\n",
      "  event_2: at time > 1: d = 1, c = 0.955759, b = -0.066361, a = -0.389398, t_0 = 1;\n",
      "  event_3: at time > 2: d = 1.5, c = -0.345157, b = -1.234555, a = 0.579712, t_0 = 2;\n",
      "  event_4: at time > 3: d = 0.5, c = -1.075131, b = 0.504581, a = -0.048735, t_0 = 3;\n",
      "  event_5: at time > 6: d = 0.5, c = 0.636518, b = 0.065969, a = -0.202487, t_0 = 6;\n",
      "  event_6: at time > 7: d = 1, c = 0.160995, b = -0.541492, a = 0.180497, t_0 = 7;\n",
      "  event_7: at time > 8: d = 0, c = 0, b = 0, a = 0, t_0 = 8;\n",
      "\n",
      "  // Variable initializations:\n",
      "  t_0 = 0;\n",
      "  a = 0;\n",
      "  b = 0;\n",
      "  c = 0;\n",
      "  d = 0;\n",
      "\n",
      "  // Other declarations:\n",
      "  var t_0, a, b, c, d, experimental_data;\n",
      "\n",
      "  // Unit definitions:\n",
      "  unit volume = 1e-3 litre;\n",
      "  unit substance = 1e-3 mole;\n",
      "\n",
      "  // Display Names:\n",
      "  experimental_data is \"experimental data\";\n",
      "end\n",
      "\n"
     ]
    }
   ],
   "source": [
    "print(r.getAntimony())"
   ]
  },
  {
   "cell_type": "code",
   "execution_count": null,
   "metadata": {
    "collapsed": true
   },
   "outputs": [],
   "source": []
  }
 ],
 "metadata": {
  "kernelspec": {
   "display_name": "Python 2",
   "language": "python",
   "name": "python2"
  },
  "language_info": {
   "codemirror_mode": {
    "name": "ipython",
    "version": 2
   },
   "file_extension": ".py",
   "mimetype": "text/x-python",
   "name": "python",
   "nbconvert_exporter": "python",
   "pygments_lexer": "ipython2",
   "version": "2.7.6"
  }
 },
 "nbformat": 4,
 "nbformat_minor": 0
}
